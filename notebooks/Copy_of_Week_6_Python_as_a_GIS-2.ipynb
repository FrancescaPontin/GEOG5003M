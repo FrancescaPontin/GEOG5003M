{
  "cells": [
    {
      "cell_type": "markdown",
      "metadata": {
        "id": "GRzrJVoMRmOg"
      },
      "source": [
        "# GEOG5990M Programming for Geographical Information Analysis <a class=\"tocSkip\">\n",
        "\n",
        "#### Contact: F.L.Pontin@leeds.ac.uk <a class=\"tocSkip\">"
      ]
    },
    {
      "cell_type": "markdown",
      "metadata": {
        "id": "D0i5aKchRmOi"
      },
      "source": [
        "# Getting started with spatial data"
      ]
    },
    {
      "cell_type": "markdown",
      "source": [
        "Up until now all the packages we have needed have already been installed in the defualt google colab environment. Now we have two further packages that we are going to use: contextily and geoplot, that are not intalled in the defauly environment.\n",
        "\n",
        "To install packages from within a notebook the quickest way is to use: !pip install PACKAGENAME\n",
        "\n",
        "- the ! character is used to execute shell commands directly from a code cell. This allows you to run commands that you would normally run in a terminal or command prompt.\n",
        "- pip is a Python package installer. It's used to install and manage software packages written in Python.\n",
        "- install: a command for pip that tells it to install a package\n",
        "- PACKAGENAME e.g. contextily or geoplot: examples of packages we can install"
      ],
      "metadata": {
        "id": "lVNQHoUn63zX"
      }
    },
    {
      "cell_type": "code",
      "execution_count": 2,
      "metadata": {
        "id": "k9RuBAA0RmOj",
        "outputId": "7dcdfb7d-0e99-424b-89aa-5dff34e3ff8a",
        "colab": {
          "base_uri": "https://localhost:8080/"
        }
      },
      "outputs": [
        {
          "output_type": "stream",
          "name": "stdout",
          "text": [
            "Collecting contextily\n",
            "  Downloading contextily-1.6.2-py3-none-any.whl.metadata (2.9 kB)\n",
            "Requirement already satisfied: geopy in /usr/local/lib/python3.11/dist-packages (from contextily) (2.4.1)\n",
            "Requirement already satisfied: matplotlib in /usr/local/lib/python3.11/dist-packages (from contextily) (3.10.0)\n",
            "Collecting mercantile (from contextily)\n",
            "  Downloading mercantile-1.2.1-py3-none-any.whl.metadata (4.8 kB)\n",
            "Requirement already satisfied: pillow in /usr/local/lib/python3.11/dist-packages (from contextily) (11.1.0)\n",
            "Collecting rasterio (from contextily)\n",
            "  Downloading rasterio-1.4.3-cp311-cp311-manylinux_2_17_x86_64.manylinux2014_x86_64.whl.metadata (9.1 kB)\n",
            "Requirement already satisfied: requests in /usr/local/lib/python3.11/dist-packages (from contextily) (2.32.3)\n",
            "Requirement already satisfied: joblib in /usr/local/lib/python3.11/dist-packages (from contextily) (1.4.2)\n",
            "Requirement already satisfied: xyzservices in /usr/local/lib/python3.11/dist-packages (from contextily) (2025.1.0)\n",
            "Requirement already satisfied: geographiclib<3,>=1.52 in /usr/local/lib/python3.11/dist-packages (from geopy->contextily) (2.0)\n",
            "Requirement already satisfied: contourpy>=1.0.1 in /usr/local/lib/python3.11/dist-packages (from matplotlib->contextily) (1.3.1)\n",
            "Requirement already satisfied: cycler>=0.10 in /usr/local/lib/python3.11/dist-packages (from matplotlib->contextily) (0.12.1)\n",
            "Requirement already satisfied: fonttools>=4.22.0 in /usr/local/lib/python3.11/dist-packages (from matplotlib->contextily) (4.56.0)\n",
            "Requirement already satisfied: kiwisolver>=1.3.1 in /usr/local/lib/python3.11/dist-packages (from matplotlib->contextily) (1.4.8)\n",
            "Requirement already satisfied: numpy>=1.23 in /usr/local/lib/python3.11/dist-packages (from matplotlib->contextily) (1.26.4)\n",
            "Requirement already satisfied: packaging>=20.0 in /usr/local/lib/python3.11/dist-packages (from matplotlib->contextily) (24.2)\n",
            "Requirement already satisfied: pyparsing>=2.3.1 in /usr/local/lib/python3.11/dist-packages (from matplotlib->contextily) (3.2.1)\n",
            "Requirement already satisfied: python-dateutil>=2.7 in /usr/local/lib/python3.11/dist-packages (from matplotlib->contextily) (2.8.2)\n",
            "Requirement already satisfied: click>=3.0 in /usr/local/lib/python3.11/dist-packages (from mercantile->contextily) (8.1.8)\n",
            "Collecting affine (from rasterio->contextily)\n",
            "  Downloading affine-2.4.0-py3-none-any.whl.metadata (4.0 kB)\n",
            "Requirement already satisfied: attrs in /usr/local/lib/python3.11/dist-packages (from rasterio->contextily) (25.1.0)\n",
            "Requirement already satisfied: certifi in /usr/local/lib/python3.11/dist-packages (from rasterio->contextily) (2025.1.31)\n",
            "Collecting cligj>=0.5 (from rasterio->contextily)\n",
            "  Downloading cligj-0.7.2-py3-none-any.whl.metadata (5.0 kB)\n",
            "Collecting click-plugins (from rasterio->contextily)\n",
            "  Downloading click_plugins-1.1.1-py2.py3-none-any.whl.metadata (6.4 kB)\n",
            "Requirement already satisfied: charset-normalizer<4,>=2 in /usr/local/lib/python3.11/dist-packages (from requests->contextily) (3.4.1)\n",
            "Requirement already satisfied: idna<4,>=2.5 in /usr/local/lib/python3.11/dist-packages (from requests->contextily) (3.10)\n",
            "Requirement already satisfied: urllib3<3,>=1.21.1 in /usr/local/lib/python3.11/dist-packages (from requests->contextily) (2.3.0)\n",
            "Requirement already satisfied: six>=1.5 in /usr/local/lib/python3.11/dist-packages (from python-dateutil>=2.7->matplotlib->contextily) (1.17.0)\n",
            "Downloading contextily-1.6.2-py3-none-any.whl (17 kB)\n",
            "Downloading mercantile-1.2.1-py3-none-any.whl (14 kB)\n",
            "Downloading rasterio-1.4.3-cp311-cp311-manylinux_2_17_x86_64.manylinux2014_x86_64.whl (22.2 MB)\n",
            "\u001b[2K   \u001b[90m━━━━━━━━━━━━━━━━━━━━━━━━━━━━━━━━━━━━━━━━\u001b[0m \u001b[32m22.2/22.2 MB\u001b[0m \u001b[31m79.8 MB/s\u001b[0m eta \u001b[36m0:00:00\u001b[0m\n",
            "\u001b[?25hDownloading cligj-0.7.2-py3-none-any.whl (7.1 kB)\n",
            "Downloading affine-2.4.0-py3-none-any.whl (15 kB)\n",
            "Downloading click_plugins-1.1.1-py2.py3-none-any.whl (7.5 kB)\n",
            "Installing collected packages: mercantile, cligj, click-plugins, affine, rasterio, contextily\n",
            "Successfully installed affine-2.4.0 click-plugins-1.1.1 cligj-0.7.2 contextily-1.6.2 mercantile-1.2.1 rasterio-1.4.3\n",
            "Collecting geoplot\n",
            "  Downloading geoplot-0.5.1-py3-none-any.whl.metadata (1.7 kB)\n",
            "Requirement already satisfied: matplotlib>=3.1.2 in /usr/local/lib/python3.11/dist-packages (from geoplot) (3.10.0)\n",
            "Requirement already satisfied: seaborn in /usr/local/lib/python3.11/dist-packages (from geoplot) (0.13.2)\n",
            "Requirement already satisfied: pandas in /usr/local/lib/python3.11/dist-packages (from geoplot) (2.2.2)\n",
            "Requirement already satisfied: geopandas>=0.9.0 in /usr/local/lib/python3.11/dist-packages (from geoplot) (1.0.1)\n",
            "Collecting cartopy (from geoplot)\n",
            "  Downloading Cartopy-0.24.1-cp311-cp311-manylinux_2_17_x86_64.manylinux2014_x86_64.whl.metadata (7.9 kB)\n",
            "Collecting mapclassify>=2.1 (from geoplot)\n",
            "  Downloading mapclassify-2.8.1-py3-none-any.whl.metadata (2.8 kB)\n",
            "Requirement already satisfied: contextily>=1.0.0 in /usr/local/lib/python3.11/dist-packages (from geoplot) (1.6.2)\n",
            "Requirement already satisfied: geopy in /usr/local/lib/python3.11/dist-packages (from contextily>=1.0.0->geoplot) (2.4.1)\n",
            "Requirement already satisfied: mercantile in /usr/local/lib/python3.11/dist-packages (from contextily>=1.0.0->geoplot) (1.2.1)\n",
            "Requirement already satisfied: pillow in /usr/local/lib/python3.11/dist-packages (from contextily>=1.0.0->geoplot) (11.1.0)\n",
            "Requirement already satisfied: rasterio in /usr/local/lib/python3.11/dist-packages (from contextily>=1.0.0->geoplot) (1.4.3)\n",
            "Requirement already satisfied: requests in /usr/local/lib/python3.11/dist-packages (from contextily>=1.0.0->geoplot) (2.32.3)\n",
            "Requirement already satisfied: joblib in /usr/local/lib/python3.11/dist-packages (from contextily>=1.0.0->geoplot) (1.4.2)\n",
            "Requirement already satisfied: xyzservices in /usr/local/lib/python3.11/dist-packages (from contextily>=1.0.0->geoplot) (2025.1.0)\n",
            "Requirement already satisfied: numpy>=1.22 in /usr/local/lib/python3.11/dist-packages (from geopandas>=0.9.0->geoplot) (1.26.4)\n",
            "Requirement already satisfied: pyogrio>=0.7.2 in /usr/local/lib/python3.11/dist-packages (from geopandas>=0.9.0->geoplot) (0.10.0)\n",
            "Requirement already satisfied: packaging in /usr/local/lib/python3.11/dist-packages (from geopandas>=0.9.0->geoplot) (24.2)\n",
            "Requirement already satisfied: pyproj>=3.3.0 in /usr/local/lib/python3.11/dist-packages (from geopandas>=0.9.0->geoplot) (3.7.1)\n",
            "Requirement already satisfied: shapely>=2.0.0 in /usr/local/lib/python3.11/dist-packages (from geopandas>=0.9.0->geoplot) (2.0.7)\n",
            "Requirement already satisfied: networkx>=2.7 in /usr/local/lib/python3.11/dist-packages (from mapclassify>=2.1->geoplot) (3.4.2)\n",
            "Requirement already satisfied: scikit-learn>=1.0 in /usr/local/lib/python3.11/dist-packages (from mapclassify>=2.1->geoplot) (1.6.1)\n",
            "Requirement already satisfied: scipy>=1.8 in /usr/local/lib/python3.11/dist-packages (from mapclassify>=2.1->geoplot) (1.13.1)\n",
            "Requirement already satisfied: contourpy>=1.0.1 in /usr/local/lib/python3.11/dist-packages (from matplotlib>=3.1.2->geoplot) (1.3.1)\n",
            "Requirement already satisfied: cycler>=0.10 in /usr/local/lib/python3.11/dist-packages (from matplotlib>=3.1.2->geoplot) (0.12.1)\n",
            "Requirement already satisfied: fonttools>=4.22.0 in /usr/local/lib/python3.11/dist-packages (from matplotlib>=3.1.2->geoplot) (4.56.0)\n",
            "Requirement already satisfied: kiwisolver>=1.3.1 in /usr/local/lib/python3.11/dist-packages (from matplotlib>=3.1.2->geoplot) (1.4.8)\n",
            "Requirement already satisfied: pyparsing>=2.3.1 in /usr/local/lib/python3.11/dist-packages (from matplotlib>=3.1.2->geoplot) (3.2.1)\n",
            "Requirement already satisfied: python-dateutil>=2.7 in /usr/local/lib/python3.11/dist-packages (from matplotlib>=3.1.2->geoplot) (2.8.2)\n",
            "Requirement already satisfied: pytz>=2020.1 in /usr/local/lib/python3.11/dist-packages (from pandas->geoplot) (2025.1)\n",
            "Requirement already satisfied: tzdata>=2022.7 in /usr/local/lib/python3.11/dist-packages (from pandas->geoplot) (2025.1)\n",
            "Requirement already satisfied: pyshp>=2.3 in /usr/local/lib/python3.11/dist-packages (from cartopy->geoplot) (2.3.1)\n",
            "Requirement already satisfied: certifi in /usr/local/lib/python3.11/dist-packages (from pyogrio>=0.7.2->geopandas>=0.9.0->geoplot) (2025.1.31)\n",
            "Requirement already satisfied: six>=1.5 in /usr/local/lib/python3.11/dist-packages (from python-dateutil>=2.7->matplotlib>=3.1.2->geoplot) (1.17.0)\n",
            "Requirement already satisfied: threadpoolctl>=3.1.0 in /usr/local/lib/python3.11/dist-packages (from scikit-learn>=1.0->mapclassify>=2.1->geoplot) (3.5.0)\n",
            "Requirement already satisfied: geographiclib<3,>=1.52 in /usr/local/lib/python3.11/dist-packages (from geopy->contextily>=1.0.0->geoplot) (2.0)\n",
            "Requirement already satisfied: click>=3.0 in /usr/local/lib/python3.11/dist-packages (from mercantile->contextily>=1.0.0->geoplot) (8.1.8)\n",
            "Requirement already satisfied: affine in /usr/local/lib/python3.11/dist-packages (from rasterio->contextily>=1.0.0->geoplot) (2.4.0)\n",
            "Requirement already satisfied: attrs in /usr/local/lib/python3.11/dist-packages (from rasterio->contextily>=1.0.0->geoplot) (25.1.0)\n",
            "Requirement already satisfied: cligj>=0.5 in /usr/local/lib/python3.11/dist-packages (from rasterio->contextily>=1.0.0->geoplot) (0.7.2)\n",
            "Requirement already satisfied: click-plugins in /usr/local/lib/python3.11/dist-packages (from rasterio->contextily>=1.0.0->geoplot) (1.1.1)\n",
            "Requirement already satisfied: charset-normalizer<4,>=2 in /usr/local/lib/python3.11/dist-packages (from requests->contextily>=1.0.0->geoplot) (3.4.1)\n",
            "Requirement already satisfied: idna<4,>=2.5 in /usr/local/lib/python3.11/dist-packages (from requests->contextily>=1.0.0->geoplot) (3.10)\n",
            "Requirement already satisfied: urllib3<3,>=1.21.1 in /usr/local/lib/python3.11/dist-packages (from requests->contextily>=1.0.0->geoplot) (2.3.0)\n",
            "Downloading geoplot-0.5.1-py3-none-any.whl (28 kB)\n",
            "Downloading mapclassify-2.8.1-py3-none-any.whl (59 kB)\n",
            "\u001b[2K   \u001b[90m━━━━━━━━━━━━━━━━━━━━━━━━━━━━━━━━━━━━━━━━\u001b[0m \u001b[32m59.1/59.1 kB\u001b[0m \u001b[31m2.5 MB/s\u001b[0m eta \u001b[36m0:00:00\u001b[0m\n",
            "\u001b[?25hDownloading Cartopy-0.24.1-cp311-cp311-manylinux_2_17_x86_64.manylinux2014_x86_64.whl (11.7 MB)\n",
            "\u001b[2K   \u001b[90m━━━━━━━━━━━━━━━━━━━━━━━━━━━━━━━━━━━━━━━━\u001b[0m \u001b[32m11.7/11.7 MB\u001b[0m \u001b[31m86.8 MB/s\u001b[0m eta \u001b[36m0:00:00\u001b[0m\n",
            "\u001b[?25hInstalling collected packages: mapclassify, cartopy, geoplot\n",
            "Successfully installed cartopy-0.24.1 geoplot-0.5.1 mapclassify-2.8.1\n"
          ]
        }
      ],
      "source": [
        "# #  run these lines of code\n",
        "!pip install contextily\n",
        "!pip install geoplot"
      ]
    },
    {
      "cell_type": "markdown",
      "metadata": {
        "id": "Ov8Ch4x7RmOj"
      },
      "source": [
        "As is coding custom we import the required packages at the beginning<br>\n",
        "<font color='orchid'> <b>Import the packages below </font>"
      ]
    },
    {
      "cell_type": "code",
      "execution_count": 3,
      "metadata": {
        "id": "Q8FVxDlbRmOk"
      },
      "outputs": [],
      "source": [
        "#Import the required packages\n",
        "\n",
        "import pandas as pd\n",
        "import numpy as np\n",
        "import geopandas as gpd\n",
        "import matplotlib.pyplot as plt\n",
        "import pyproj\n",
        "import contextily as ctx\n",
        "import seaborn as sns\n",
        "\n",
        "import geoplot as gplt\n",
        "import geoplot.crs as gcrs\n"
      ]
    },
    {
      "cell_type": "markdown",
      "metadata": {
        "id": "L-hH8e6XRmOl"
      },
      "source": [
        "We have imported a new package 'geopandas'. Geopandas works like pandas but also handles spatial data. Geopandas was designed to allow people to easily handle and use spatial datasets in Python. <br>\n",
        "\n"
      ]
    },
    {
      "cell_type": "code",
      "execution_count": null,
      "metadata": {
        "id": "4DHt3RYkRmOl",
        "outputId": "b00d4927-7182-40a8-8da8-7af3d0851d85",
        "colab": {
          "base_uri": "https://localhost:8080/"
        }
      },
      "outputs": [
        {
          "output_type": "execute_result",
          "data": {
            "text/plain": [
              "[]"
            ]
          },
          "metadata": {},
          "execution_count": 5
        }
      ],
      "source": [
        "\n",
        "bus_stops =gpd.read_file('https://github.com/FrancescaPontin/GEOG5990M/raw/refs/heads/main/data/week_6_7/West_Yorkshire_bus_stops.geojson')"
      ]
    },
    {
      "cell_type": "markdown",
      "metadata": {
        "id": "GEozvY7URmOl"
      },
      "source": [
        "## Reading in spatial data\n",
        "\n",
        "Geopandas dataframes work the same way as pandas dataframes, but are also able to handle the spatial element of the dataset. Therefore the code we use is very similar. We use <code>geopandas.read_file(<font color =red>file_path</font>) </code> replacing <font color =red>\\\"file_path\\\"</font>, with the actual path to the shape datafile you want to use, in this case .geojson files).\n",
        "\n",
        "We are going to read the files from the GitHub repo. The urls to the data on GitHub are:\n",
        "- https://github.com/FrancescaPontin/GEOG5990M/blob/main/data/week_6_7/Leeds.geojson\n",
        "-https://github.com/FrancescaPontin/GEOG5990M/blob/main/data/week_6_7/West_Yorkshire_bus_stops.geojson\n",
        "\n",
        "Remember, when we are reading in data from GitHub we need to ammend the link from: '/blob/' to: '/raw/refs/heads/'\n"
      ]
    },
    {
      "cell_type": "markdown",
      "metadata": {
        "id": "avxrJdjjRmOn"
      },
      "source": [
        "<font color='orchid'> Run the code below to read the spatial data in </font>"
      ]
    },
    {
      "cell_type": "code",
      "source": [
        "bus_stops =gpd.read_file('https://github.com/FrancescaPontin/GEOG5990M/raw/refs/heads/main/data/week_6_7/West_Yorkshire_bus_stops.geojson')\n",
        "leeds=gpd.read_file('https://github.com/FrancescaPontin/GEOG5990M/raw/refs/heads/main/data/week_6_7/Leeds.geojson')\n"
      ],
      "metadata": {
        "id": "pMokYk_3ZT2J"
      },
      "execution_count": 13,
      "outputs": []
    },
    {
      "cell_type": "markdown",
      "metadata": {
        "id": "qdNanzPLRmOo"
      },
      "source": [
        "### Data Exploration\n",
        "Just as we have done before we are going to explore the data by having a look at the dataframes and by visualising both the data sets."
      ]
    },
    {
      "cell_type": "code",
      "execution_count": 14,
      "metadata": {
        "id": "EskxPXTYRmOo",
        "colab": {
          "base_uri": "https://localhost:8080/",
          "height": 206
        },
        "outputId": "b8b907b1-c23f-4354-eb21-3c23addf0f6a"
      },
      "outputs": [
        {
          "output_type": "execute_result",
          "data": {
            "text/plain": [
              "   STOPID                             NAME       TOWN  0730_0930  1200_1400  \\\n",
              "0   10001         Bodmin Road Helston Walk  Middleton          6          6   \n",
              "1   10002      Bodmin Road Padstow Gardens  Middleton          6          6   \n",
              "2   10003        Bodmin Road Padstow Place  Middleton          6          6   \n",
              "3   10004      Bodmin Crescent Sissons Ter  Middleton          6          6   \n",
              "4   10005  Ring Road Beeston Helston Croft  Middleton          9         10   \n",
              "\n",
              "   1500_1830  2000_2100       x       y    z  \\\n",
              "0          4          2  428983  428480  120   \n",
              "1          4          2  429117  428112  120   \n",
              "2          4          2  429287  427872  120   \n",
              "3          5          2  429447  427727  130   \n",
              "4          6          5  429160  428503  130   \n",
              "\n",
              "                                              PhotoF  \\\n",
              "0  http://apps.westyorks-ca.gov.uk/stopinformatio...   \n",
              "1  http://apps.westyorks-ca.gov.uk/stopinformatio...   \n",
              "2  http://apps.westyorks-ca.gov.uk/stopinformatio...   \n",
              "3  http://apps.westyorks-ca.gov.uk/stopinformatio...   \n",
              "4  http://apps.westyorks-ca.gov.uk/stopinformatio...   \n",
              "\n",
              "                                              PhotoS  \\\n",
              "0  http://apps.westyorks-ca.gov.uk/stopinformatio...   \n",
              "1  http://apps.westyorks-ca.gov.uk/stopinformatio...   \n",
              "2  http://apps.westyorks-ca.gov.uk/stopinformatio...   \n",
              "3  http://apps.westyorks-ca.gov.uk/stopinformatio...   \n",
              "4  http://apps.westyorks-ca.gov.uk/stopinformatio...   \n",
              "\n",
              "                      geometry  \n",
              "0  POINT Z (428983 428480 120)  \n",
              "1  POINT Z (429117 428112 120)  \n",
              "2  POINT Z (429287 427872 120)  \n",
              "3  POINT Z (429447 427727 130)  \n",
              "4  POINT Z (429160 428503 130)  "
            ],
            "text/html": [
              "\n",
              "  <div id=\"df-1833b331-20ca-4294-b8fb-72086c91d2fa\" class=\"colab-df-container\">\n",
              "    <div>\n",
              "<style scoped>\n",
              "    .dataframe tbody tr th:only-of-type {\n",
              "        vertical-align: middle;\n",
              "    }\n",
              "\n",
              "    .dataframe tbody tr th {\n",
              "        vertical-align: top;\n",
              "    }\n",
              "\n",
              "    .dataframe thead th {\n",
              "        text-align: right;\n",
              "    }\n",
              "</style>\n",
              "<table border=\"1\" class=\"dataframe\">\n",
              "  <thead>\n",
              "    <tr style=\"text-align: right;\">\n",
              "      <th></th>\n",
              "      <th>STOPID</th>\n",
              "      <th>NAME</th>\n",
              "      <th>TOWN</th>\n",
              "      <th>0730_0930</th>\n",
              "      <th>1200_1400</th>\n",
              "      <th>1500_1830</th>\n",
              "      <th>2000_2100</th>\n",
              "      <th>x</th>\n",
              "      <th>y</th>\n",
              "      <th>z</th>\n",
              "      <th>PhotoF</th>\n",
              "      <th>PhotoS</th>\n",
              "      <th>geometry</th>\n",
              "    </tr>\n",
              "  </thead>\n",
              "  <tbody>\n",
              "    <tr>\n",
              "      <th>0</th>\n",
              "      <td>10001</td>\n",
              "      <td>Bodmin Road Helston Walk</td>\n",
              "      <td>Middleton</td>\n",
              "      <td>6</td>\n",
              "      <td>6</td>\n",
              "      <td>4</td>\n",
              "      <td>2</td>\n",
              "      <td>428983</td>\n",
              "      <td>428480</td>\n",
              "      <td>120</td>\n",
              "      <td>http://apps.westyorks-ca.gov.uk/stopinformatio...</td>\n",
              "      <td>http://apps.westyorks-ca.gov.uk/stopinformatio...</td>\n",
              "      <td>POINT Z (428983 428480 120)</td>\n",
              "    </tr>\n",
              "    <tr>\n",
              "      <th>1</th>\n",
              "      <td>10002</td>\n",
              "      <td>Bodmin Road Padstow Gardens</td>\n",
              "      <td>Middleton</td>\n",
              "      <td>6</td>\n",
              "      <td>6</td>\n",
              "      <td>4</td>\n",
              "      <td>2</td>\n",
              "      <td>429117</td>\n",
              "      <td>428112</td>\n",
              "      <td>120</td>\n",
              "      <td>http://apps.westyorks-ca.gov.uk/stopinformatio...</td>\n",
              "      <td>http://apps.westyorks-ca.gov.uk/stopinformatio...</td>\n",
              "      <td>POINT Z (429117 428112 120)</td>\n",
              "    </tr>\n",
              "    <tr>\n",
              "      <th>2</th>\n",
              "      <td>10003</td>\n",
              "      <td>Bodmin Road Padstow Place</td>\n",
              "      <td>Middleton</td>\n",
              "      <td>6</td>\n",
              "      <td>6</td>\n",
              "      <td>4</td>\n",
              "      <td>2</td>\n",
              "      <td>429287</td>\n",
              "      <td>427872</td>\n",
              "      <td>120</td>\n",
              "      <td>http://apps.westyorks-ca.gov.uk/stopinformatio...</td>\n",
              "      <td>http://apps.westyorks-ca.gov.uk/stopinformatio...</td>\n",
              "      <td>POINT Z (429287 427872 120)</td>\n",
              "    </tr>\n",
              "    <tr>\n",
              "      <th>3</th>\n",
              "      <td>10004</td>\n",
              "      <td>Bodmin Crescent Sissons Ter</td>\n",
              "      <td>Middleton</td>\n",
              "      <td>6</td>\n",
              "      <td>6</td>\n",
              "      <td>5</td>\n",
              "      <td>2</td>\n",
              "      <td>429447</td>\n",
              "      <td>427727</td>\n",
              "      <td>130</td>\n",
              "      <td>http://apps.westyorks-ca.gov.uk/stopinformatio...</td>\n",
              "      <td>http://apps.westyorks-ca.gov.uk/stopinformatio...</td>\n",
              "      <td>POINT Z (429447 427727 130)</td>\n",
              "    </tr>\n",
              "    <tr>\n",
              "      <th>4</th>\n",
              "      <td>10005</td>\n",
              "      <td>Ring Road Beeston Helston Croft</td>\n",
              "      <td>Middleton</td>\n",
              "      <td>9</td>\n",
              "      <td>10</td>\n",
              "      <td>6</td>\n",
              "      <td>5</td>\n",
              "      <td>429160</td>\n",
              "      <td>428503</td>\n",
              "      <td>130</td>\n",
              "      <td>http://apps.westyorks-ca.gov.uk/stopinformatio...</td>\n",
              "      <td>http://apps.westyorks-ca.gov.uk/stopinformatio...</td>\n",
              "      <td>POINT Z (429160 428503 130)</td>\n",
              "    </tr>\n",
              "  </tbody>\n",
              "</table>\n",
              "</div>\n",
              "    <div class=\"colab-df-buttons\">\n",
              "\n",
              "  <div class=\"colab-df-container\">\n",
              "    <button class=\"colab-df-convert\" onclick=\"convertToInteractive('df-1833b331-20ca-4294-b8fb-72086c91d2fa')\"\n",
              "            title=\"Convert this dataframe to an interactive table.\"\n",
              "            style=\"display:none;\">\n",
              "\n",
              "  <svg xmlns=\"http://www.w3.org/2000/svg\" height=\"24px\" viewBox=\"0 -960 960 960\">\n",
              "    <path d=\"M120-120v-720h720v720H120Zm60-500h600v-160H180v160Zm220 220h160v-160H400v160Zm0 220h160v-160H400v160ZM180-400h160v-160H180v160Zm440 0h160v-160H620v160ZM180-180h160v-160H180v160Zm440 0h160v-160H620v160Z\"/>\n",
              "  </svg>\n",
              "    </button>\n",
              "\n",
              "  <style>\n",
              "    .colab-df-container {\n",
              "      display:flex;\n",
              "      gap: 12px;\n",
              "    }\n",
              "\n",
              "    .colab-df-convert {\n",
              "      background-color: #E8F0FE;\n",
              "      border: none;\n",
              "      border-radius: 50%;\n",
              "      cursor: pointer;\n",
              "      display: none;\n",
              "      fill: #1967D2;\n",
              "      height: 32px;\n",
              "      padding: 0 0 0 0;\n",
              "      width: 32px;\n",
              "    }\n",
              "\n",
              "    .colab-df-convert:hover {\n",
              "      background-color: #E2EBFA;\n",
              "      box-shadow: 0px 1px 2px rgba(60, 64, 67, 0.3), 0px 1px 3px 1px rgba(60, 64, 67, 0.15);\n",
              "      fill: #174EA6;\n",
              "    }\n",
              "\n",
              "    .colab-df-buttons div {\n",
              "      margin-bottom: 4px;\n",
              "    }\n",
              "\n",
              "    [theme=dark] .colab-df-convert {\n",
              "      background-color: #3B4455;\n",
              "      fill: #D2E3FC;\n",
              "    }\n",
              "\n",
              "    [theme=dark] .colab-df-convert:hover {\n",
              "      background-color: #434B5C;\n",
              "      box-shadow: 0px 1px 3px 1px rgba(0, 0, 0, 0.15);\n",
              "      filter: drop-shadow(0px 1px 2px rgba(0, 0, 0, 0.3));\n",
              "      fill: #FFFFFF;\n",
              "    }\n",
              "  </style>\n",
              "\n",
              "    <script>\n",
              "      const buttonEl =\n",
              "        document.querySelector('#df-1833b331-20ca-4294-b8fb-72086c91d2fa button.colab-df-convert');\n",
              "      buttonEl.style.display =\n",
              "        google.colab.kernel.accessAllowed ? 'block' : 'none';\n",
              "\n",
              "      async function convertToInteractive(key) {\n",
              "        const element = document.querySelector('#df-1833b331-20ca-4294-b8fb-72086c91d2fa');\n",
              "        const dataTable =\n",
              "          await google.colab.kernel.invokeFunction('convertToInteractive',\n",
              "                                                    [key], {});\n",
              "        if (!dataTable) return;\n",
              "\n",
              "        const docLinkHtml = 'Like what you see? Visit the ' +\n",
              "          '<a target=\"_blank\" href=https://colab.research.google.com/notebooks/data_table.ipynb>data table notebook</a>'\n",
              "          + ' to learn more about interactive tables.';\n",
              "        element.innerHTML = '';\n",
              "        dataTable['output_type'] = 'display_data';\n",
              "        await google.colab.output.renderOutput(dataTable, element);\n",
              "        const docLink = document.createElement('div');\n",
              "        docLink.innerHTML = docLinkHtml;\n",
              "        element.appendChild(docLink);\n",
              "      }\n",
              "    </script>\n",
              "  </div>\n",
              "\n",
              "\n",
              "<div id=\"df-18d32c43-8779-4717-a092-42581a3fee8e\">\n",
              "  <button class=\"colab-df-quickchart\" onclick=\"quickchart('df-18d32c43-8779-4717-a092-42581a3fee8e')\"\n",
              "            title=\"Suggest charts\"\n",
              "            style=\"display:none;\">\n",
              "\n",
              "<svg xmlns=\"http://www.w3.org/2000/svg\" height=\"24px\"viewBox=\"0 0 24 24\"\n",
              "     width=\"24px\">\n",
              "    <g>\n",
              "        <path d=\"M19 3H5c-1.1 0-2 .9-2 2v14c0 1.1.9 2 2 2h14c1.1 0 2-.9 2-2V5c0-1.1-.9-2-2-2zM9 17H7v-7h2v7zm4 0h-2V7h2v10zm4 0h-2v-4h2v4z\"/>\n",
              "    </g>\n",
              "</svg>\n",
              "  </button>\n",
              "\n",
              "<style>\n",
              "  .colab-df-quickchart {\n",
              "      --bg-color: #E8F0FE;\n",
              "      --fill-color: #1967D2;\n",
              "      --hover-bg-color: #E2EBFA;\n",
              "      --hover-fill-color: #174EA6;\n",
              "      --disabled-fill-color: #AAA;\n",
              "      --disabled-bg-color: #DDD;\n",
              "  }\n",
              "\n",
              "  [theme=dark] .colab-df-quickchart {\n",
              "      --bg-color: #3B4455;\n",
              "      --fill-color: #D2E3FC;\n",
              "      --hover-bg-color: #434B5C;\n",
              "      --hover-fill-color: #FFFFFF;\n",
              "      --disabled-bg-color: #3B4455;\n",
              "      --disabled-fill-color: #666;\n",
              "  }\n",
              "\n",
              "  .colab-df-quickchart {\n",
              "    background-color: var(--bg-color);\n",
              "    border: none;\n",
              "    border-radius: 50%;\n",
              "    cursor: pointer;\n",
              "    display: none;\n",
              "    fill: var(--fill-color);\n",
              "    height: 32px;\n",
              "    padding: 0;\n",
              "    width: 32px;\n",
              "  }\n",
              "\n",
              "  .colab-df-quickchart:hover {\n",
              "    background-color: var(--hover-bg-color);\n",
              "    box-shadow: 0 1px 2px rgba(60, 64, 67, 0.3), 0 1px 3px 1px rgba(60, 64, 67, 0.15);\n",
              "    fill: var(--button-hover-fill-color);\n",
              "  }\n",
              "\n",
              "  .colab-df-quickchart-complete:disabled,\n",
              "  .colab-df-quickchart-complete:disabled:hover {\n",
              "    background-color: var(--disabled-bg-color);\n",
              "    fill: var(--disabled-fill-color);\n",
              "    box-shadow: none;\n",
              "  }\n",
              "\n",
              "  .colab-df-spinner {\n",
              "    border: 2px solid var(--fill-color);\n",
              "    border-color: transparent;\n",
              "    border-bottom-color: var(--fill-color);\n",
              "    animation:\n",
              "      spin 1s steps(1) infinite;\n",
              "  }\n",
              "\n",
              "  @keyframes spin {\n",
              "    0% {\n",
              "      border-color: transparent;\n",
              "      border-bottom-color: var(--fill-color);\n",
              "      border-left-color: var(--fill-color);\n",
              "    }\n",
              "    20% {\n",
              "      border-color: transparent;\n",
              "      border-left-color: var(--fill-color);\n",
              "      border-top-color: var(--fill-color);\n",
              "    }\n",
              "    30% {\n",
              "      border-color: transparent;\n",
              "      border-left-color: var(--fill-color);\n",
              "      border-top-color: var(--fill-color);\n",
              "      border-right-color: var(--fill-color);\n",
              "    }\n",
              "    40% {\n",
              "      border-color: transparent;\n",
              "      border-right-color: var(--fill-color);\n",
              "      border-top-color: var(--fill-color);\n",
              "    }\n",
              "    60% {\n",
              "      border-color: transparent;\n",
              "      border-right-color: var(--fill-color);\n",
              "    }\n",
              "    80% {\n",
              "      border-color: transparent;\n",
              "      border-right-color: var(--fill-color);\n",
              "      border-bottom-color: var(--fill-color);\n",
              "    }\n",
              "    90% {\n",
              "      border-color: transparent;\n",
              "      border-bottom-color: var(--fill-color);\n",
              "    }\n",
              "  }\n",
              "</style>\n",
              "\n",
              "  <script>\n",
              "    async function quickchart(key) {\n",
              "      const quickchartButtonEl =\n",
              "        document.querySelector('#' + key + ' button');\n",
              "      quickchartButtonEl.disabled = true;  // To prevent multiple clicks.\n",
              "      quickchartButtonEl.classList.add('colab-df-spinner');\n",
              "      try {\n",
              "        const charts = await google.colab.kernel.invokeFunction(\n",
              "            'suggestCharts', [key], {});\n",
              "      } catch (error) {\n",
              "        console.error('Error during call to suggestCharts:', error);\n",
              "      }\n",
              "      quickchartButtonEl.classList.remove('colab-df-spinner');\n",
              "      quickchartButtonEl.classList.add('colab-df-quickchart-complete');\n",
              "    }\n",
              "    (() => {\n",
              "      let quickchartButtonEl =\n",
              "        document.querySelector('#df-18d32c43-8779-4717-a092-42581a3fee8e button');\n",
              "      quickchartButtonEl.style.display =\n",
              "        google.colab.kernel.accessAllowed ? 'block' : 'none';\n",
              "    })();\n",
              "  </script>\n",
              "</div>\n",
              "\n",
              "    </div>\n",
              "  </div>\n"
            ],
            "application/vnd.google.colaboratory.intrinsic+json": {
              "type": "dataframe",
              "variable_name": "bus_stops",
              "summary": "{\n  \"name\": \"bus_stops\",\n  \"rows\": 14255,\n  \"fields\": [\n    {\n      \"column\": \"STOPID\",\n      \"properties\": {\n        \"dtype\": \"int32\",\n        \"num_unique_values\": 14255,\n        \"samples\": [\n          10411,\n          19188,\n          17438\n        ],\n        \"semantic_type\": \"\",\n        \"description\": \"\"\n      }\n    },\n    {\n      \"column\": \"NAME\",\n      \"properties\": {\n        \"dtype\": \"string\",\n        \"num_unique_values\": 10157,\n        \"samples\": [\n          \"Slades Road Bank End Road\",\n          \"Scaitcliffe Hall\",\n          \"Huddersfield Road Union Street\"\n        ],\n        \"semantic_type\": \"\",\n        \"description\": \"\"\n      }\n    },\n    {\n      \"column\": \"TOWN\",\n      \"properties\": {\n        \"dtype\": \"category\",\n        \"num_unique_values\": 842,\n        \"samples\": [\n          \"Fall Ings\",\n          \"Ilkley Town Centre\",\n          \"Rawthorpe\"\n        ],\n        \"semantic_type\": \"\",\n        \"description\": \"\"\n      }\n    },\n    {\n      \"column\": \"0730_0930\",\n      \"properties\": {\n        \"dtype\": \"int32\",\n        \"num_unique_values\": 47,\n        \"samples\": [\n          16,\n          38,\n          17\n        ],\n        \"semantic_type\": \"\",\n        \"description\": \"\"\n      }\n    },\n    {\n      \"column\": \"1200_1400\",\n      \"properties\": {\n        \"dtype\": \"int32\",\n        \"num_unique_values\": 48,\n        \"samples\": [\n          35,\n          71,\n          34\n        ],\n        \"semantic_type\": \"\",\n        \"description\": \"\"\n      }\n    },\n    {\n      \"column\": \"1500_1830\",\n      \"properties\": {\n        \"dtype\": \"int32\",\n        \"num_unique_values\": 42,\n        \"samples\": [\n          14,\n          17,\n          7\n        ],\n        \"semantic_type\": \"\",\n        \"description\": \"\"\n      }\n    },\n    {\n      \"column\": \"2000_2100\",\n      \"properties\": {\n        \"dtype\": \"int32\",\n        \"num_unique_values\": 22,\n        \"samples\": [\n          2,\n          13,\n          8\n        ],\n        \"semantic_type\": \"\",\n        \"description\": \"\"\n      }\n    },\n    {\n      \"column\": \"x\",\n      \"properties\": {\n        \"dtype\": \"int32\",\n        \"num_unique_values\": 12015,\n        \"samples\": [\n          406934,\n          428344,\n          407653\n        ],\n        \"semantic_type\": \"\",\n        \"description\": \"\"\n      }\n    },\n    {\n      \"column\": \"y\",\n      \"properties\": {\n        \"dtype\": \"int32\",\n        \"num_unique_values\": 11465,\n        \"samples\": [\n          417362,\n          438884,\n          415531\n        ],\n        \"semantic_type\": \"\",\n        \"description\": \"\"\n      }\n    },\n    {\n      \"column\": \"z\",\n      \"properties\": {\n        \"dtype\": \"int32\",\n        \"num_unique_values\": 41,\n        \"samples\": [\n          240,\n          20,\n          50\n        ],\n        \"semantic_type\": \"\",\n        \"description\": \"\"\n      }\n    },\n    {\n      \"column\": \"PhotoF\",\n      \"properties\": {\n        \"dtype\": \"string\",\n        \"num_unique_values\": 14255,\n        \"samples\": [\n          \"http://apps.westyorks-ca.gov.uk/stopinformation/GetPhotos.aspx?stopnumber=10411&view=front\",\n          \"http://apps.westyorks-ca.gov.uk/stopinformation/GetPhotos.aspx?stopnumber=19188&view=front\",\n          \"http://apps.westyorks-ca.gov.uk/stopinformation/GetPhotos.aspx?stopnumber=17438&view=front\"\n        ],\n        \"semantic_type\": \"\",\n        \"description\": \"\"\n      }\n    },\n    {\n      \"column\": \"PhotoS\",\n      \"properties\": {\n        \"dtype\": \"string\",\n        \"num_unique_values\": 14255,\n        \"samples\": [\n          \"http://apps.westyorks-ca.gov.uk/stopinformation/GetPhotos.aspx?stopnumber=10411&view=side\",\n          \"http://apps.westyorks-ca.gov.uk/stopinformation/GetPhotos.aspx?stopnumber=19188&view=side\",\n          \"http://apps.westyorks-ca.gov.uk/stopinformation/GetPhotos.aspx?stopnumber=17438&view=side\"\n        ],\n        \"semantic_type\": \"\",\n        \"description\": \"\"\n      }\n    },\n    {\n      \"column\": \"geometry\",\n      \"properties\": {\n        \"dtype\": \"geometry\",\n        \"num_unique_values\": 14255,\n        \"samples\": [\n          \"POINT Z (426010 437413 110)\",\n          \"POINT Z (411359 409817 250)\",\n          \"POINT Z (405327 427305 320)\"\n        ],\n        \"semantic_type\": \"\",\n        \"description\": \"\"\n      }\n    }\n  ]\n}"
            }
          },
          "metadata": {},
          "execution_count": 14
        }
      ],
      "source": [
        "# let's have a look at the cities geopandas dataframe\n",
        "bus_stops.head()"
      ]
    },
    {
      "cell_type": "markdown",
      "metadata": {
        "id": "LHzNwzsfRmOo"
      },
      "source": [
        "### Data Overview\n",
        "### West Yorkshire Bus Stops\n",
        "\n",
        "https://datamillnorth.org/dataset/vqxk4/west-yorkshire-bus-stops\n",
        "\n",
        "The data includes average buses per hour during the AM Peak (0730 - 0930) Inter-Peak (1200-1400), PM Peak (1500 - 1830) and evening (2000 - 2100) time periods.\n",
        "\n",
        "\n",
        "Also included is a link to front and side photos of the bus stop.\n",
        "\n",
        "\n",
        "Note that the dataframe has two columns:\n",
        "- 'name' naming the city\n",
        "- 'geometry' listing the type of geometry, in this case POINT. And two numbers - the coordiantes of the point."
      ]
    },
    {
      "cell_type": "markdown",
      "metadata": {
        "id": "wP-Zn76_RmOp"
      },
      "source": [
        "## Simple spatial data visualisation\n",
        "### Point data"
      ]
    },
    {
      "cell_type": "code",
      "execution_count": 15,
      "metadata": {
        "id": "1vDUkDkRRmOp",
        "colab": {
          "base_uri": "https://localhost:8080/",
          "height": 676
        },
        "outputId": "77dfb0f7-fd9f-4632-b7ea-c743eb3469c1"
      },
      "outputs": [
        {
          "output_type": "display_data",
          "data": {
            "text/plain": [
              "<Figure size 1600x800 with 1 Axes>"
            ],
            "image/png": "[encoded data removed]"
          },
          "metadata": {}
        }
      ],
      "source": [
        "# Plot the cities data\n",
        "\n",
        "# define the plot size and nummber of subplots (1 i.e. 1 plot)\n",
        "f, ax = plt.subplots(1, figsize=(16, 8))\n",
        "# plot the  cities, specifying the subplot axis\n",
        "bus_stops.plot(ax=ax)\n",
        "# show the plot\n",
        "plt.show()"
      ]
    },
    {
      "cell_type": "code",
      "source": [],
      "metadata": {
        "id": "uDsamZNbZrzB"
      },
      "execution_count": null,
      "outputs": []
    },
    {
      "cell_type": "markdown",
      "metadata": {
        "id": "hGSf4WZERmOq"
      },
      "source": [
        "Now we will do the same for the countries dataframe."
      ]
    },
    {
      "cell_type": "markdown",
      "metadata": {
        "id": "K3YjUFBIRmOq"
      },
      "source": [
        "### Polygon data"
      ]
    },
    {
      "cell_type": "code",
      "execution_count": null,
      "metadata": {
        "id": "E1wkSUGmRmOq"
      },
      "outputs": [],
      "source": [
        "# Explore the countries dataframe\n",
        "countries.head()"
      ]
    },
    {
      "cell_type": "markdown",
      "metadata": {
        "id": "XlfUs3-URmOr"
      },
      "source": [
        "<b>Note</b> the geometry column this time is made up of POLYGON data, made up of many coordiante points. <br>\n",
        "Let us have a closer look at the polygon geometry. We are going to look at the geometry of row 1."
      ]
    },
    {
      "cell_type": "code",
      "execution_count": null,
      "metadata": {
        "id": "5soolSBPRmOr"
      },
      "outputs": [],
      "source": [
        "# Lets look at index 3 (for me it is Canada) of the geometry column\n",
        "# Notice the shape is quite complex with lots of edges\n",
        "countries.loc[3,'geometry']"
      ]
    },
    {
      "cell_type": "code",
      "execution_count": null,
      "metadata": {
        "id": "xr7kmaYwRmOs"
      },
      "outputs": [],
      "source": [
        "# let us look at the list of coordiantes\n",
        "print(countries.loc[3,'geometry'])\n",
        "# Each point is a corner of the country"
      ]
    },
    {
      "cell_type": "markdown",
      "metadata": {
        "id": "9N0RwVqcRmOs"
      },
      "source": [
        "### Now let's plot all the countries"
      ]
    },
    {
      "cell_type": "code",
      "execution_count": null,
      "metadata": {
        "id": "Qcqlz6HlRmOs"
      },
      "outputs": [],
      "source": [
        "f,ax = plt.subplots(1, figsize=(16, 8))\n",
        "countries.plot(ax=ax)\n",
        "plt.show()"
      ]
    },
    {
      "cell_type": "markdown",
      "metadata": {
        "id": "vcoexfLERmOs"
      },
      "source": [
        "### geopandas.explore()\n",
        "\n",
        "<code>gpd.explore()</code> is a really useful function that generate an interactive leaflet map based on GeoDataFrame. It is particulalry useful for inital data exploration. the function creates:\n",
        "- a navigatable map\n",
        "- with 'zoom in and out' functionality\n",
        "- and hover over function displaying the variables in the GeoDataFrame\n",
        "\n",
        "The <code>.explore()</code> has many customisabel parameters, see the [package documentation](https://geopandas.org/en/stable/docs/reference/api/geopandas.GeoDataFrame.explore.html)"
      ]
    },
    {
      "cell_type": "code",
      "execution_count": null,
      "metadata": {
        "id": "JnjUjNPbRmOt"
      },
      "outputs": [],
      "source": [
        "cities.explore()"
      ]
    },
    {
      "cell_type": "code",
      "execution_count": null,
      "metadata": {
        "id": "deFDOQsjRmOt"
      },
      "outputs": [],
      "source": [
        "countries.explore()"
      ]
    },
    {
      "cell_type": "markdown",
      "metadata": {
        "id": "PVXQ0vDXRmOt"
      },
      "source": [
        "## Coordinate Reference Systems (CRS)\n",
        "Before we map multiple layers we need to check they have the same Coordinate Reference System (CRS). Using the <code>.crs</code> function"
      ]
    },
    {
      "cell_type": "code",
      "execution_count": null,
      "metadata": {
        "id": "pJsODy1ZRmOu"
      },
      "outputs": [],
      "source": [
        "cities.crs"
      ]
    },
    {
      "cell_type": "markdown",
      "metadata": {
        "id": "IIHvLCTsRmOu"
      },
      "source": [
        "Look at what happens when we change the projection"
      ]
    },
    {
      "cell_type": "code",
      "execution_count": null,
      "metadata": {
        "id": "5pN5Q7i0RmOu"
      },
      "outputs": [],
      "source": [
        "# NAD83 Canadian Spatial Reference System: Large and medium scale topographic mapping and engineering survey.\n",
        "countries_new_proj= countries.to_crs(epsg=2953)\n",
        "\n",
        "# EPSG:3851 New Zealand Geodetic Datum 2000: Spatial referencing and conformal mapping on the NZ continental shelf.\n",
        "countries_new_proj2= countries.to_crs(epsg=3851)"
      ]
    },
    {
      "cell_type": "code",
      "execution_count": null,
      "metadata": {
        "id": "Xgv-XxCHRmOu"
      },
      "outputs": [],
      "source": [
        "# plot the two diifferent projections\n",
        "f, ax = plt.subplots(1,3, figsize=(30, 20))\n",
        "countries.plot(ax=ax[0])\n",
        "countries_new_proj.plot(ax=ax[1])\n",
        "countries_new_proj2.plot(ax=ax[2])\n",
        "plt.show()\n",
        "# Note the different scales on the axis and orrientation of the countries"
      ]
    },
    {
      "cell_type": "markdown",
      "metadata": {
        "id": "GUWyklTfRmOv"
      },
      "source": [
        "## Layering maps\n",
        "Much like other mapping software it is possible to layer maps in Python. We will plot the cities on top of the countires dataset.\n",
        "\n",
        "We need to check the CRS of both datasets is the same so we can accurately plot the layers on top of each other"
      ]
    },
    {
      "cell_type": "code",
      "execution_count": null,
      "metadata": {
        "id": "WTMnDh5tRmOv"
      },
      "outputs": [],
      "source": [
        "# Check the CRS are the same\n",
        "print(cities.crs, countries.crs)"
      ]
    },
    {
      "cell_type": "markdown",
      "metadata": {
        "id": "L8CDR4xTRmOv"
      },
      "source": [
        "## Plot the cities and countries together"
      ]
    },
    {
      "cell_type": "code",
      "execution_count": null,
      "metadata": {
        "id": "Druxo5gnRmOv"
      },
      "outputs": [],
      "source": [
        "# plot one subplot (1 map), with dimensions 16 X 8\n",
        "f, ax = plt.subplots(1, figsize=(16, 8))\n",
        "\n",
        "# define the basemap plot it on the sublot axis\n",
        "base = countries.plot(ax=ax)\n",
        "\n",
        "# plot the cities on the basemap axis, colour the cities red\n",
        "cities.plot(ax=base,color='red')\n",
        "\n",
        "# show the map\n",
        "plt.show()"
      ]
    },
    {
      "cell_type": "markdown",
      "metadata": {
        "id": "uTwABNZdRmOw"
      },
      "source": [
        "## Choropleth Mapping\n",
        "Choropleth maps are maps where the polygons are coloured differenet shades or colours based on a value. E.g. Populaiton"
      ]
    },
    {
      "cell_type": "code",
      "execution_count": null,
      "metadata": {
        "id": "PwOL9pjZRmOw"
      },
      "outputs": [],
      "source": [
        "# Define plot size\n",
        "f,ax = plt.subplots(1, figsize=(16,8))\n",
        "# Plot the countries, specifying to plot the population estimate column\n",
        "# Add legend (legend =True)\n",
        "countries.plot(ax=ax, column ='pop_est', legend=True)\n",
        "# show the map\n",
        "plt.show()"
      ]
    },
    {
      "cell_type": "markdown",
      "metadata": {
        "id": "wYiNSA5vRmOw"
      },
      "source": [
        "<font color= 'orchid'> <b>Code your own choropleth map for 'gdp_mp_est'<b></font><br>\n",
        "    Answer at the end of the workbook"
      ]
    },
    {
      "cell_type": "code",
      "execution_count": null,
      "metadata": {
        "id": "yyINOKcTRmOx"
      },
      "outputs": [],
      "source": [
        "# code your choropleth map here!"
      ]
    },
    {
      "cell_type": "markdown",
      "metadata": {
        "id": "jgL6Wm0XRmOx"
      },
      "source": [
        "### Plotting Categorical variables\n",
        "It is possible to create choropleth maps with categorical variables. To do this we specify <code> categorical=True,</code> withn the <code>plot()</code> function.<br> If we treat the continent of the country as a categorical variable we can colour the countries based on the continent they are in.<br>\n",
        "\n",
        "Note the legend of the map is now separate colours and not a continuous colour bar\n",
        "\n",
        "<font color ='orchid'> <b> Run the code below to plot a categorical chloropleth </font>"
      ]
    },
    {
      "cell_type": "code",
      "execution_count": null,
      "metadata": {
        "id": "BfE6cgwjRmOx"
      },
      "outputs": [],
      "source": [
        "f,ax = plt.subplots(1, figsize=(16,8))\n",
        "countries.plot(ax=ax, column ='continent', categorical=True, legend=True)\n",
        "plt.show();"
      ]
    },
    {
      "cell_type": "markdown",
      "metadata": {
        "id": "WnQ0gTtARmOy"
      },
      "source": [
        "## Subsetting spatial data\n",
        "We can also work with and plot just a subset of the spatial data. For example we might only be interested in Africa. In which case we can use the <code>.loc[]</code> fucntion to locate all rows (countries) where the continent is Africe. Just like we would normally do in a non-spatial pandas dataframe.<br>\n",
        "\n",
        "<font color ='orchid'> <b>Run the code below </font>"
      ]
    },
    {
      "cell_type": "code",
      "execution_count": null,
      "metadata": {
        "scrolled": true,
        "id": "lvt4pTQxRmOy"
      },
      "outputs": [],
      "source": [
        "# locate countries (rows) in Africa\n",
        "africa= countries.loc[countries['continent']=='Africa']\n",
        "# view the newly created Africa dataframe\n",
        "africa"
      ]
    },
    {
      "cell_type": "markdown",
      "metadata": {
        "id": "Jy03Xo4pRmOy"
      },
      "source": [
        "It is now possible to plot just Africa. We can also put maps side by side to compare them. Here we are going to plot population estimate for each country and the estimated GDP for each country.<br>\n",
        "\n",
        "<font color = 'orchid'> <b> Run the code below,</b> make sure you understand what each line does (there is a lot going on)</font>"
      ]
    },
    {
      "cell_type": "code",
      "execution_count": null,
      "metadata": {
        "id": "lLV_bp9MRmOy"
      },
      "outputs": [],
      "source": [
        "# create a figure with two subplots (maps)\n",
        "f,ax = plt.subplots(1,2, figsize=(12,6))\n",
        "\n",
        "# plot population estimate in subplot 1\n",
        "africa.plot(ax=ax[0], column ='pop_est', legend=True)\n",
        "\n",
        "# plot gdp estimate in subplot 2\n",
        "africa.plot(ax=ax[1], column ='gdp_md_est', legend=True)\n",
        "\n",
        "# give subplot 1 an informative title\n",
        "ax[0].set_title('Population estimate')\n",
        "\n",
        "# give subplot 2 an informative title\n",
        "ax[1].set_title('GDP estimate')\n",
        "\n",
        "# make axis invisible for subplot 1\n",
        "ax[0].set_axis_off()\n",
        "\n",
        "# make axis invisible for subplot 1\n",
        "ax[1].set_axis_off()\n",
        "\n",
        "# show figure\n",
        "plt.show()"
      ]
    },
    {
      "cell_type": "markdown",
      "metadata": {
        "id": "2-8XUnhaRmOy"
      },
      "source": [
        "## Subplots and axes"
      ]
    },
    {
      "cell_type": "markdown",
      "metadata": {
        "id": "3gOlqRpURmOz"
      },
      "source": [
        "A quick note on the subplot and ax indexing. It can be a little tricky getting your head arround the indexing used when creating subplots.\n",
        "To create mulitple subplots you use the code below, specifying firstly the number of rows then the number of columns. <br>\n",
        "<code>.subplots([number of rows], [number of columns])</code>\n",
        "\n",
        "When you are then specifyng each individual plot, you need to specify the axes of the plot, using the code <code> ax=ax[]</code>. The indexing for the axes starts at 0. I.e. the first row is 'row 0' and the first column, 'column 0'. This is illustrated below.\n",
        "\n",
        "![](https://github.com/FrancescaPontin/GEOG5990M/blob/main/notebooks/screenshots/axes_diagram.png?raw=true)"
      ]
    },
    {
      "cell_type": "markdown",
      "metadata": {
        "id": "iE5rFIAURmOz"
      },
      "source": [
        "For a set of subplots with just one row you only need to specify the column in the <code>ax=ax[]</code> function. <br>\n",
        "I.e. <code>ax=ax[column number]</code> <br>\n",
        "\n",
        "I.e.<code> plt.subplot(1,2) <br>\n",
        "dataframe.plot(ax=ax[0], ...\n",
        "dataframe.plot(ax=ax[1], ... </code>\n",
        "![](https://github.com/FrancescaPontin/GEOG5990M/blob/main/notebooks/screenshots/axes_2.png?raw=true)"
      ]
    },
    {
      "cell_type": "markdown",
      "metadata": {
        "id": "d8qPeaFfRmOz"
      },
      "source": [
        "Simialrly for a set of subplots with just one column you only need to specify the row in the <code>ax=ax[]</code> function. <br>\n",
        "<code> plt.subplot(2,1) <br>\n",
        "dataframe.plot(ax=ax[0], ...\n",
        "dataframe.plot(ax=ax[1], ... </code>\n",
        "</code>\n",
        "![](https://github.com/FrancescaPontin/GEOG5990M/blob/main/notebooks/screenshots/axes_3.png?raw=true)"
      ]
    },
    {
      "cell_type": "markdown",
      "metadata": {
        "id": "UTs1qUlKRmOz"
      },
      "source": [
        "For a set of subplots with just multiple rows and columns you only need to specify both in the <code>ax=ax[,]</code> funciton.(row first then column)<br>\n",
        "<code>plt.subplot(2,3)<br>\n",
        "dataframe.plot(ax=ax[0,0], ...\n",
        "dataframe.plot(ax=ax[0,1], ...\n",
        "dataframe.plot(ax=ax[0,2], ...\n",
        "dataframe.plot(ax=ax[1,0], ...\n",
        "dataframe.plot(ax=ax[1,1], ...\n",
        "dataframe.plot(ax=ax[1,2], ...</code>\n",
        "![](https://github.com/FrancescaPontin/GEOG5990M/blob/main/notebooks/screenshots/axes_4.png?raw=true"
      ]
    },
    {
      "cell_type": "markdown",
      "metadata": {
        "id": "X-Wbw7YLRmOz"
      },
      "source": [
        "<div class=\"alert alert-block alert-warning\">\n",
        "    \n",
        "## Extra task: Using USA data"
      ]
    },
    {
      "cell_type": "markdown",
      "metadata": {
        "id": "h6c76UpURmO0"
      },
      "source": [
        "### The data"
      ]
    },
    {
      "cell_type": "code",
      "execution_count": 17,
      "metadata": {
        "id": "w3puWztORmO0"
      },
      "outputs": [],
      "source": [
        "usa_cities = gpd.read_file(gplt.datasets.get_path('usa_cities'))\n",
        "contiguous_usa = gpd.read_file(gplt.datasets.get_path('contiguous_usa'))\n",
        "\n",
        "# remove cities in sates not in the contiguous USA (not connected directly to the mainland), for ease of plotting\n",
        "continental_usa_cities = usa_cities.loc[(usa_cities['STATE'] !=\"HI\") & (usa_cities['STATE'] !=\"AK\" ) & (usa_cities['STATE'] !=\"PR\")]\n"
      ]
    },
    {
      "cell_type": "code",
      "execution_count": 18,
      "metadata": {
        "scrolled": true,
        "id": "aOJfLKW0RmO0",
        "colab": {
          "base_uri": "https://localhost:8080/",
          "height": 206
        },
        "outputId": "096c89f3-060d-4320-da98-885b614db51e"
      },
      "outputs": [
        {
          "output_type": "execute_result",
          "data": {
            "text/plain": [
              "    id  POP_2010  ELEV_IN_FT STATE                     geometry\n",
              "0   53   40888.0      1611.0    ND  POINT (-101.29627 48.23251)\n",
              "1  101   52838.0       830.0    ND   POINT (-97.03285 47.92526)\n",
              "2  153   15427.0      1407.0    ND   POINT (-98.70844 46.91054)\n",
              "3  177  105549.0       902.0    ND    POINT (-96.7898 46.87719)\n",
              "4  192   17787.0      2411.0    ND  POINT (-102.78962 46.87918)"
            ],
            "text/html": [
              "\n",
              "  <div id=\"df-ce0f2dd6-dd36-4ff7-a08b-f9420dbd889f\" class=\"colab-df-container\">\n",
              "    <div>\n",
              "<style scoped>\n",
              "    .dataframe tbody tr th:only-of-type {\n",
              "        vertical-align: middle;\n",
              "    }\n",
              "\n",
              "    .dataframe tbody tr th {\n",
              "        vertical-align: top;\n",
              "    }\n",
              "\n",
              "    .dataframe thead th {\n",
              "        text-align: right;\n",
              "    }\n",
              "</style>\n",
              "<table border=\"1\" class=\"dataframe\">\n",
              "  <thead>\n",
              "    <tr style=\"text-align: right;\">\n",
              "      <th></th>\n",
              "      <th>id</th>\n",
              "      <th>POP_2010</th>\n",
              "      <th>ELEV_IN_FT</th>\n",
              "      <th>STATE</th>\n",
              "      <th>geometry</th>\n",
              "    </tr>\n",
              "  </thead>\n",
              "  <tbody>\n",
              "    <tr>\n",
              "      <th>0</th>\n",
              "      <td>53</td>\n",
              "      <td>40888.0</td>\n",
              "      <td>1611.0</td>\n",
              "      <td>ND</td>\n",
              "      <td>POINT (-101.29627 48.23251)</td>\n",
              "    </tr>\n",
              "    <tr>\n",
              "      <th>1</th>\n",
              "      <td>101</td>\n",
              "      <td>52838.0</td>\n",
              "      <td>830.0</td>\n",
              "      <td>ND</td>\n",
              "      <td>POINT (-97.03285 47.92526)</td>\n",
              "    </tr>\n",
              "    <tr>\n",
              "      <th>2</th>\n",
              "      <td>153</td>\n",
              "      <td>15427.0</td>\n",
              "      <td>1407.0</td>\n",
              "      <td>ND</td>\n",
              "      <td>POINT (-98.70844 46.91054)</td>\n",
              "    </tr>\n",
              "    <tr>\n",
              "      <th>3</th>\n",
              "      <td>177</td>\n",
              "      <td>105549.0</td>\n",
              "      <td>902.0</td>\n",
              "      <td>ND</td>\n",
              "      <td>POINT (-96.7898 46.87719)</td>\n",
              "    </tr>\n",
              "    <tr>\n",
              "      <th>4</th>\n",
              "      <td>192</td>\n",
              "      <td>17787.0</td>\n",
              "      <td>2411.0</td>\n",
              "      <td>ND</td>\n",
              "      <td>POINT (-102.78962 46.87918)</td>\n",
              "    </tr>\n",
              "  </tbody>\n",
              "</table>\n",
              "</div>\n",
              "    <div class=\"colab-df-buttons\">\n",
              "\n",
              "  <div class=\"colab-df-container\">\n",
              "    <button class=\"colab-df-convert\" onclick=\"convertToInteractive('df-ce0f2dd6-dd36-4ff7-a08b-f9420dbd889f')\"\n",
              "            title=\"Convert this dataframe to an interactive table.\"\n",
              "            style=\"display:none;\">\n",
              "\n",
              "  <svg xmlns=\"http://www.w3.org/2000/svg\" height=\"24px\" viewBox=\"0 -960 960 960\">\n",
              "    <path d=\"M120-120v-720h720v720H120Zm60-500h600v-160H180v160Zm220 220h160v-160H400v160Zm0 220h160v-160H400v160ZM180-400h160v-160H180v160Zm440 0h160v-160H620v160ZM180-180h160v-160H180v160Zm440 0h160v-160H620v160Z\"/>\n",
              "  </svg>\n",
              "    </button>\n",
              "\n",
              "  <style>\n",
              "    .colab-df-container {\n",
              "      display:flex;\n",
              "      gap: 12px;\n",
              "    }\n",
              "\n",
              "    .colab-df-convert {\n",
              "      background-color: #E8F0FE;\n",
              "      border: none;\n",
              "      border-radius: 50%;\n",
              "      cursor: pointer;\n",
              "      display: none;\n",
              "      fill: #1967D2;\n",
              "      height: 32px;\n",
              "      padding: 0 0 0 0;\n",
              "      width: 32px;\n",
              "    }\n",
              "\n",
              "    .colab-df-convert:hover {\n",
              "      background-color: #E2EBFA;\n",
              "      box-shadow: 0px 1px 2px rgba(60, 64, 67, 0.3), 0px 1px 3px 1px rgba(60, 64, 67, 0.15);\n",
              "      fill: #174EA6;\n",
              "    }\n",
              "\n",
              "    .colab-df-buttons div {\n",
              "      margin-bottom: 4px;\n",
              "    }\n",
              "\n",
              "    [theme=dark] .colab-df-convert {\n",
              "      background-color: #3B4455;\n",
              "      fill: #D2E3FC;\n",
              "    }\n",
              "\n",
              "    [theme=dark] .colab-df-convert:hover {\n",
              "      background-color: #434B5C;\n",
              "      box-shadow: 0px 1px 3px 1px rgba(0, 0, 0, 0.15);\n",
              "      filter: drop-shadow(0px 1px 2px rgba(0, 0, 0, 0.3));\n",
              "      fill: #FFFFFF;\n",
              "    }\n",
              "  </style>\n",
              "\n",
              "    <script>\n",
              "      const buttonEl =\n",
              "        document.querySelector('#df-ce0f2dd6-dd36-4ff7-a08b-f9420dbd889f button.colab-df-convert');\n",
              "      buttonEl.style.display =\n",
              "        google.colab.kernel.accessAllowed ? 'block' : 'none';\n",
              "\n",
              "      async function convertToInteractive(key) {\n",
              "        const element = document.querySelector('#df-ce0f2dd6-dd36-4ff7-a08b-f9420dbd889f');\n",
              "        const dataTable =\n",
              "          await google.colab.kernel.invokeFunction('convertToInteractive',\n",
              "                                                    [key], {});\n",
              "        if (!dataTable) return;\n",
              "\n",
              "        const docLinkHtml = 'Like what you see? Visit the ' +\n",
              "          '<a target=\"_blank\" href=https://colab.research.google.com/notebooks/data_table.ipynb>data table notebook</a>'\n",
              "          + ' to learn more about interactive tables.';\n",
              "        element.innerHTML = '';\n",
              "        dataTable['output_type'] = 'display_data';\n",
              "        await google.colab.output.renderOutput(dataTable, element);\n",
              "        const docLink = document.createElement('div');\n",
              "        docLink.innerHTML = docLinkHtml;\n",
              "        element.appendChild(docLink);\n",
              "      }\n",
              "    </script>\n",
              "  </div>\n",
              "\n",
              "\n",
              "<div id=\"df-9aa73d59-fcdf-4caf-86b9-f302a5cdcff3\">\n",
              "  <button class=\"colab-df-quickchart\" onclick=\"quickchart('df-9aa73d59-fcdf-4caf-86b9-f302a5cdcff3')\"\n",
              "            title=\"Suggest charts\"\n",
              "            style=\"display:none;\">\n",
              "\n",
              "<svg xmlns=\"http://www.w3.org/2000/svg\" height=\"24px\"viewBox=\"0 0 24 24\"\n",
              "     width=\"24px\">\n",
              "    <g>\n",
              "        <path d=\"M19 3H5c-1.1 0-2 .9-2 2v14c0 1.1.9 2 2 2h14c1.1 0 2-.9 2-2V5c0-1.1-.9-2-2-2zM9 17H7v-7h2v7zm4 0h-2V7h2v10zm4 0h-2v-4h2v4z\"/>\n",
              "    </g>\n",
              "</svg>\n",
              "  </button>\n",
              "\n",
              "<style>\n",
              "  .colab-df-quickchart {\n",
              "      --bg-color: #E8F0FE;\n",
              "      --fill-color: #1967D2;\n",
              "      --hover-bg-color: #E2EBFA;\n",
              "      --hover-fill-color: #174EA6;\n",
              "      --disabled-fill-color: #AAA;\n",
              "      --disabled-bg-color: #DDD;\n",
              "  }\n",
              "\n",
              "  [theme=dark] .colab-df-quickchart {\n",
              "      --bg-color: #3B4455;\n",
              "      --fill-color: #D2E3FC;\n",
              "      --hover-bg-color: #434B5C;\n",
              "      --hover-fill-color: #FFFFFF;\n",
              "      --disabled-bg-color: #3B4455;\n",
              "      --disabled-fill-color: #666;\n",
              "  }\n",
              "\n",
              "  .colab-df-quickchart {\n",
              "    background-color: var(--bg-color);\n",
              "    border: none;\n",
              "    border-radius: 50%;\n",
              "    cursor: pointer;\n",
              "    display: none;\n",
              "    fill: var(--fill-color);\n",
              "    height: 32px;\n",
              "    padding: 0;\n",
              "    width: 32px;\n",
              "  }\n",
              "\n",
              "  .colab-df-quickchart:hover {\n",
              "    background-color: var(--hover-bg-color);\n",
              "    box-shadow: 0 1px 2px rgba(60, 64, 67, 0.3), 0 1px 3px 1px rgba(60, 64, 67, 0.15);\n",
              "    fill: var(--button-hover-fill-color);\n",
              "  }\n",
              "\n",
              "  .colab-df-quickchart-complete:disabled,\n",
              "  .colab-df-quickchart-complete:disabled:hover {\n",
              "    background-color: var(--disabled-bg-color);\n",
              "    fill: var(--disabled-fill-color);\n",
              "    box-shadow: none;\n",
              "  }\n",
              "\n",
              "  .colab-df-spinner {\n",
              "    border: 2px solid var(--fill-color);\n",
              "    border-color: transparent;\n",
              "    border-bottom-color: var(--fill-color);\n",
              "    animation:\n",
              "      spin 1s steps(1) infinite;\n",
              "  }\n",
              "\n",
              "  @keyframes spin {\n",
              "    0% {\n",
              "      border-color: transparent;\n",
              "      border-bottom-color: var(--fill-color);\n",
              "      border-left-color: var(--fill-color);\n",
              "    }\n",
              "    20% {\n",
              "      border-color: transparent;\n",
              "      border-left-color: var(--fill-color);\n",
              "      border-top-color: var(--fill-color);\n",
              "    }\n",
              "    30% {\n",
              "      border-color: transparent;\n",
              "      border-left-color: var(--fill-color);\n",
              "      border-top-color: var(--fill-color);\n",
              "      border-right-color: var(--fill-color);\n",
              "    }\n",
              "    40% {\n",
              "      border-color: transparent;\n",
              "      border-right-color: var(--fill-color);\n",
              "      border-top-color: var(--fill-color);\n",
              "    }\n",
              "    60% {\n",
              "      border-color: transparent;\n",
              "      border-right-color: var(--fill-color);\n",
              "    }\n",
              "    80% {\n",
              "      border-color: transparent;\n",
              "      border-right-color: var(--fill-color);\n",
              "      border-bottom-color: var(--fill-color);\n",
              "    }\n",
              "    90% {\n",
              "      border-color: transparent;\n",
              "      border-bottom-color: var(--fill-color);\n",
              "    }\n",
              "  }\n",
              "</style>\n",
              "\n",
              "  <script>\n",
              "    async function quickchart(key) {\n",
              "      const quickchartButtonEl =\n",
              "        document.querySelector('#' + key + ' button');\n",
              "      quickchartButtonEl.disabled = true;  // To prevent multiple clicks.\n",
              "      quickchartButtonEl.classList.add('colab-df-spinner');\n",
              "      try {\n",
              "        const charts = await google.colab.kernel.invokeFunction(\n",
              "            'suggestCharts', [key], {});\n",
              "      } catch (error) {\n",
              "        console.error('Error during call to suggestCharts:', error);\n",
              "      }\n",
              "      quickchartButtonEl.classList.remove('colab-df-spinner');\n",
              "      quickchartButtonEl.classList.add('colab-df-quickchart-complete');\n",
              "    }\n",
              "    (() => {\n",
              "      let quickchartButtonEl =\n",
              "        document.querySelector('#df-9aa73d59-fcdf-4caf-86b9-f302a5cdcff3 button');\n",
              "      quickchartButtonEl.style.display =\n",
              "        google.colab.kernel.accessAllowed ? 'block' : 'none';\n",
              "    })();\n",
              "  </script>\n",
              "</div>\n",
              "\n",
              "    </div>\n",
              "  </div>\n"
            ],
            "application/vnd.google.colaboratory.intrinsic+json": {
              "type": "dataframe",
              "variable_name": "continental_usa_cities",
              "summary": "{\n  \"name\": \"continental_usa_cities\",\n  \"rows\": 3616,\n  \"fields\": [\n    {\n      \"column\": \"id\",\n      \"properties\": {\n        \"dtype\": \"string\",\n        \"num_unique_values\": 3616,\n        \"samples\": [\n          \"20146\",\n          \"7486\",\n          \"19613\"\n        ],\n        \"semantic_type\": \"\",\n        \"description\": \"\"\n      }\n    },\n    {\n      \"column\": \"POP_2010\",\n      \"properties\": {\n        \"dtype\": \"number\",\n        \"std\": 192664.96455295838,\n        \"min\": 10008.0,\n        \"max\": 8175133.0,\n        \"num_unique_values\": 3447,\n        \"samples\": [\n          20362.0,\n          39502.0,\n          39559.0\n        ],\n        \"semantic_type\": \"\",\n        \"description\": \"\"\n      }\n    },\n    {\n      \"column\": \"ELEV_IN_FT\",\n      \"properties\": {\n        \"dtype\": \"number\",\n        \"std\": 1089.7152611215583,\n        \"min\": -112.0,\n        \"max\": 7369.0,\n        \"num_unique_values\": 716,\n        \"samples\": [\n          1657.0,\n          79.0,\n          787.0\n        ],\n        \"semantic_type\": \"\",\n        \"description\": \"\"\n      }\n    },\n    {\n      \"column\": \"STATE\",\n      \"properties\": {\n        \"dtype\": \"category\",\n        \"num_unique_values\": 49,\n        \"samples\": [\n          \"NE\",\n          \"MT\",\n          \"WY\"\n        ],\n        \"semantic_type\": \"\",\n        \"description\": \"\"\n      }\n    },\n    {\n      \"column\": \"geometry\",\n      \"properties\": {\n        \"dtype\": \"geometry\",\n        \"num_unique_values\": 3615,\n        \"samples\": [\n          \"POINT (-122.90930629999991 47.0073187000001)\",\n          \"POINT (-114.3129080999999 48.19579250000004)\",\n          \"POINT (-91.91085869295408 32.77960274392215)\"\n        ],\n        \"semantic_type\": \"\",\n        \"description\": \"\"\n      }\n    }\n  ]\n}"
            }
          },
          "metadata": {},
          "execution_count": 18
        }
      ],
      "source": [
        "continental_usa_cities.head()"
      ]
    },
    {
      "cell_type": "code",
      "execution_count": null,
      "metadata": {
        "id": "QvSHk0wPRmO0"
      },
      "outputs": [],
      "source": [
        "continental_usa_cities.plot()"
      ]
    },
    {
      "cell_type": "code",
      "execution_count": null,
      "metadata": {
        "id": "VOdkGXJgRmO0"
      },
      "outputs": [],
      "source": [
        "contiguous_usa.head()"
      ]
    },
    {
      "cell_type": "code",
      "execution_count": null,
      "metadata": {
        "id": "J8eWuawuRmO1"
      },
      "outputs": [],
      "source": [
        "contiguous_usa.plot()"
      ]
    },
    {
      "cell_type": "markdown",
      "metadata": {
        "id": "dWaUHSZcRmO1"
      },
      "source": [
        "### Tasks:\n",
        "- check the CRS of both geo data frames\n",
        "- produce a layered map of cities and states\n",
        "- Produce a choropleth map of 2010 popualation\n",
        "- produce a choropleth map of elevation\n",
        "- Colour city by state\n",
        "- subset the data to plot a single state e.g. Washington"
      ]
    },
    {
      "cell_type": "markdown",
      "metadata": {
        "id": "aCjry-T8RmO1"
      },
      "source": [
        "# Exercise: Manipulating spatial data"
      ]
    },
    {
      "cell_type": "markdown",
      "metadata": {
        "id": "J4YlDUoGRmO1"
      },
      "source": [
        "## Geometric Manipulations"
      ]
    },
    {
      "cell_type": "markdown",
      "metadata": {
        "id": "otbjaLImRmO1"
      },
      "source": [
        "### Buffers\n",
        "\n",
        "A buffer in geographic information system (GIS) is a zone around a map feature measured in units of distance or time.\n",
        "\n",
        "In Python we specify the buffer size: the radius of the buffer (in this case size is measured in degrees as the projection is epsg 4326).\n",
        "\n",
        "E.g.:\n",
        "<code> dataframe.crs ={'init': 'epsg:4326'} </code>\n",
        "\n",
        "<code> dataframe.buffer(distance =10) </code> distance = 10 degrees."
      ]
    },
    {
      "cell_type": "code",
      "execution_count": null,
      "metadata": {
        "id": "sdLCQw1KRmO2"
      },
      "outputs": [],
      "source": [
        "cities.buffer(distance=10).plot();"
      ]
    },
    {
      "cell_type": "markdown",
      "metadata": {
        "id": "dCNTaqqVRmO2"
      },
      "source": [
        "If we want to measure the buffer in meters we can change the projection to [EPSG 3857](https://epsg.io/3857) where the projection unit is meters (rather than degrees).\n",
        "\n",
        "Note: At the world scale this will result in errors in measurement due to the earth curvature. At a smaller scale, depending on where you are mapping other projections are more suitable e.g. [EPSG:4959](https://epsg.io/4959) is used in New Zealand"
      ]
    },
    {
      "cell_type": "code",
      "execution_count": null,
      "metadata": {
        "id": "-O6CDXM4RmO2"
      },
      "outputs": [],
      "source": [
        "#Plot 500 km (500,0000 m) buffer arround cities\n",
        "\n",
        "# plot one subplot (1 map), with dimensions 16 X 8\n",
        "f, ax = plt.subplots(1, figsize=(16, 8))\n",
        "\n",
        "cities.to_crs('epsg:3857').buffer(distance=500000).plot(ax=ax)\n",
        "\n",
        "plt.show()"
      ]
    },
    {
      "cell_type": "markdown",
      "metadata": {
        "id": "_0-G5peORmO2"
      },
      "source": [
        "In order to keep information about the area begin buffered in the newly created buffer geo-data-frame it is useful to copy the original data you want to conduct the geometric maipulation on, and name it something else e.g. data_buffer.\n",
        "\n",
        "Then replace the geometry column in the copied data with the calculated buffer geometry.\n",
        "\n",
        "E.g.\n",
        "<code> dataframe_buffer = dataframe.copy() </code>\n",
        "\n",
        "<code> dataframe_buffer['geometry'] = dataframe.buffer(distance)</code>"
      ]
    },
    {
      "cell_type": "code",
      "execution_count": null,
      "metadata": {
        "id": "MLpMiUjERmO3"
      },
      "outputs": [],
      "source": [
        "# copy the cities dataframe\n",
        "cities_buffer = cities.copy()\n",
        "\n",
        "# apply the function (replacing the geometry column with the buffer geometry)\n",
        "cities_buffer['geometry'] = cities.buffer(10)\n",
        "\n",
        "cities_buffer.head()"
      ]
    },
    {
      "cell_type": "markdown",
      "metadata": {
        "id": "oX4zms58RmO3"
      },
      "source": [
        "Note because we copied the cities data frame above the cities_buffer data frame contains the name of the city.\n",
        "\n",
        "<font color = 'orchid'> <b> Try just running the code </b> <code>cities.buffer(10, resolution=10)</code>. </font>\n",
        "    \n",
        "Note we get a geopandas array with the geometry data but not the corresponding city that is being buffered"
      ]
    },
    {
      "cell_type": "code",
      "execution_count": null,
      "metadata": {
        "id": "48uF4LYRRmO3"
      },
      "outputs": [],
      "source": [
        "# run the code\n",
        "cities.buffer(10, resolution=10)"
      ]
    },
    {
      "cell_type": "markdown",
      "metadata": {
        "id": "a4s0u79rRmO3"
      },
      "source": [
        "We can add the cities_buffer layer to the map along with the countries and cities layers.\n",
        "\n",
        "<font color = 'orchid'> <b> Run the code below, read the comments to understand what each line of code is doing  </font>"
      ]
    },
    {
      "cell_type": "code",
      "execution_count": null,
      "metadata": {
        "scrolled": true,
        "id": "bvsV2pK5RmO3"
      },
      "outputs": [],
      "source": [
        "# plot one subplot (1 map), with dimensions 16 X 8\n",
        "f, ax = plt.subplots(1, figsize=(16, 8))\n",
        "\n",
        "# define the basemap plot it on the sublot axis\n",
        "base = countries.plot(ax=ax, color='grey')\n",
        "\n",
        "# plot the city buffers on the basemap axis, colour buffers blue\n",
        "cities_buffer.plot(ax=base,color='blue', alpha=0.2)\n",
        "\n",
        "# plot the cities on the basemap axis, colour the cities red\n",
        "cities.plot(ax=base,color='red')\n",
        "\n",
        "# shw the map\n",
        "plt.show()"
      ]
    },
    {
      "cell_type": "markdown",
      "metadata": {
        "id": "mrLkvSSYRmO4"
      },
      "source": [
        "### Centroids\n",
        "\n",
        "Put simply the centroid is the center most point of a polygon (there are different debated methods of calculating centroids, but unless you are using centroids for a specific purpose the method should not matter too much).\n",
        "\n",
        "#### Why calculate centroids?\n",
        "\n",
        "Lots of geometric manipulations and analysis use centroids. For example you might use centroids to as a proxy to measure the distance between two polygons.\n",
        "\n",
        "\n",
        "<font color = 'orchid'> <b>Use the code </b> <code> dataframe.centroid </code> <b>to find the country centroids (run the next 3 cells of code for the worked example below) </font>"
      ]
    },
    {
      "cell_type": "code",
      "execution_count": null,
      "metadata": {
        "id": "Lr8vLB7kRmO4"
      },
      "outputs": [],
      "source": [
        "# copy the countries dataframe\n",
        "countries_centroid = countries.copy()\n",
        "\n",
        "# calcualte the centorid\n",
        "# and replace the country geometry (polygon) with the centroid geometry (point)\n",
        "countries_centroid['geometry'] = countries.centroid\n",
        "\n",
        "# check - geometry should contain point data\n",
        "countries_centroid.head()"
      ]
    },
    {
      "cell_type": "code",
      "execution_count": null,
      "metadata": {
        "id": "65q5jkQwRmO5"
      },
      "outputs": [],
      "source": [
        "# plot to check it looks as expected\n",
        "countries_centroid.plot();"
      ]
    },
    {
      "cell_type": "code",
      "execution_count": null,
      "metadata": {
        "id": "4PSx68-iRmO5"
      },
      "outputs": [],
      "source": [
        "# plot one subplot (1 map), with dimensions 16 X 8\n",
        "f, ax = plt.subplots(1, figsize=(16, 8))\n",
        "\n",
        "# define the basemap plot it on the sublot axis\n",
        "base = countries.plot(ax=ax, color='grey')\n",
        "\n",
        "# plot the country centroids on the basemap axis, colour the centroids purple\n",
        "countries_centroid.plot(ax=base,color='purple')\n",
        "\n",
        "# show the map\n",
        "plt.show()"
      ]
    },
    {
      "cell_type": "markdown",
      "metadata": {
        "id": "9kUAxJ0-RmO5"
      },
      "source": [
        "We can also change marker size and colour of plotted points to reflect the data they represent (as we did with the chloropleth maps for polygon data).\n",
        "\n",
        "Note as population sizes are large (i.e. millions) I have assigned marker size to 'pop_est'/1,000,000, so the markers are plot-able.\n",
        "\n",
        "<font color = 'orchid'> <b>Run the code below, then try removing or reducing the size of <code>/1000000</code> and see what happens </font>"
      ]
    },
    {
      "cell_type": "code",
      "execution_count": null,
      "metadata": {
        "id": "CmRqFMlLRmO5"
      },
      "outputs": [],
      "source": [
        "# plot one subplot (1 map), with dimensions 16 X 8\n",
        "f, ax = plt.subplots(1, figsize=(16, 8))\n",
        "\n",
        "# define the basemap plot it on the sublot axis\n",
        "base = countries.plot(ax=ax, color='grey')\n",
        "\n",
        "# plot the country centroids on the basemap axis, colour the centroids purple\n",
        "countries_centroid.plot(ax=base,column='pop_est',markersize=countries['pop_est']/1000000, legend=True)\n",
        "\n",
        "# make axis invisible\n",
        "ax.set_axis_off()\n",
        "\n",
        "# show the map\n",
        "plt.show()"
      ]
    },
    {
      "cell_type": "markdown",
      "metadata": {
        "id": "97fn-X6YRmO6"
      },
      "source": [
        "### Convex hull polygons\n",
        "\n",
        "A convex hull is the smallest polygon that you can draw around a collection of points/a polygon.\n",
        "\n",
        "<font color = 'orchid'> <b>Run the code below to create convex hull polygons (using the code </b><code> dataframe.convex_hull</code><b> around the countries in Africa </font>"
      ]
    },
    {
      "cell_type": "code",
      "execution_count": null,
      "metadata": {
        "id": "7YlT88D5RmO6"
      },
      "outputs": [],
      "source": [
        "africa_convex_hull = africa.copy()\n",
        "\n",
        "africa_convex_hull['geometry'] = africa.convex_hull\n",
        "\n",
        "# plot one subplot (1 map), with dimensions 16 X 8\n",
        "f, ax = plt.subplots(1, figsize=(16, 8))\n",
        "\n",
        "# define the basemap plot it on the sublot axis\n",
        "base = africa.plot(ax=ax, color='grey')\n",
        "\n",
        "# plot the africa convex hull polygons\n",
        "# .boundary alows us to just plot the polygon outline\n",
        "africa_convex_hull.boundary.plot(ax=base)\n",
        "\n",
        "# make axis invisible\n",
        "ax.set_axis_off()\n",
        "\n",
        "# show the map\n",
        "plt.show()"
      ]
    },
    {
      "cell_type": "markdown",
      "metadata": {
        "id": "oxfVyL9hRmO6"
      },
      "source": [
        "<div class=\"alert alert-block alert-warning\">\n",
        "\n",
        "### Coding task\n",
        "Try:\n",
        "    - Buffering the countries centroids\n",
        "    - Buffering the Africa convex hull polygons\n",
        "    - Getting the centroid of the africa convex hull polygons\n",
        "    - Getting the convex hull polygons of all the countries (note this might look a bit messy)\n",
        "    \n",
        "Answers at end of exercise 2."
      ]
    },
    {
      "cell_type": "markdown",
      "metadata": {
        "id": "l_cc0h-lRmO6"
      },
      "source": [
        "## Spatially aggregating data\n",
        "Often our data will not be at the same spatial scale so we may need to aggreaget areas of data together to get them to the same spatial scale. Or we may only be interested in larger spatial trends. Therefore we need to convert our smaller area data to larger area data. In geopandas we can easily so this using the <code>dissolve</code> function.\n",
        "In this example we are going to aggregate countries up to continent level. <br>\n",
        "Think of dissolve as removing all the internal country boarders within the continent to leave just the continent outline.<br>\n",
        "The data for the continent also gets aggregated e.g. estimated populaitn and GDP. <br>\n",
        "<font color='orchid'> <b> Run the code below </font>"
      ]
    },
    {
      "cell_type": "code",
      "execution_count": null,
      "metadata": {
        "scrolled": true,
        "id": "YZwQ9ULsRmO7"
      },
      "outputs": [],
      "source": [
        "# specify which columns from the countries dataframe we are going to aggreagate,\n",
        "# use the continent column to inform the dissolve\n",
        "continents = countries[['continent', 'pop_est', 'geometry','gdp_md_est']].dissolve(by='continent', aggfunc='mean').reset_index()\n",
        "\n",
        "# view the new continents dataframe\n",
        "continents"
      ]
    },
    {
      "cell_type": "markdown",
      "metadata": {
        "id": "qYKzIEIkRmO7"
      },
      "source": [
        "Think carefully about how you want to aggregate the columns, we can also assign an aggfunction to each column (as we did with <code>.agg()</code> in day 1 when looking at the bike share data).\n",
        "\n",
        "E.g.\n",
        "<code>, aggfunc={'r_rank':'mean','r_exp':'max'})</code>\n",
        "\n",
        "There is no quick way to assign multiple columns the same function so with a large dataset you might want to consider which columns you include in the aggregated spatial data frame.\n"
      ]
    },
    {
      "cell_type": "code",
      "execution_count": null,
      "metadata": {
        "id": "ZhQ07Kn4RmO7"
      },
      "outputs": [],
      "source": [
        "africa_cont = gpd.GeoDataFrame(continents.loc[continents['continent']=='Africa'])\n",
        "africa_cont"
      ]
    },
    {
      "cell_type": "code",
      "execution_count": null,
      "metadata": {
        "id": "80eDV4zBRmO7"
      },
      "outputs": [],
      "source": [
        "# create a figure with two subplots (maps)\n",
        "f,ax = plt.subplots(3,1, figsize=(12,20),sharex=True, sharey=True)\n",
        "\n",
        "# plot countries mid year GDP estimate\n",
        "countries.plot(ax=ax[0], column ='gdp_md_est', vmin=0,vmax=countries['gdp_md_est'].max() ,legend=True)\n",
        "\n",
        "# plot countinent average mid year GDP estimate, default legend scale\n",
        "continents.plot(ax=ax[1], column ='gdp_md_est', vmin=0,legend=True)\n",
        "\n",
        "# plot countinent average mid year GDP estimate: countries legend scale\n",
        "continents.plot(ax=ax[2], column ='gdp_md_est', vmin=0,vmax=countries['gdp_md_est'].max() ,legend=True)\n",
        "\n",
        "#patch_col = ax[0].collections[0]\n",
        "#cb = f.colorbar(patch_col, ax=ax, shrink=0.5)\n",
        "\n",
        "# make axis invisible for subplots\n",
        "ax[0].set_axis_off()\n",
        "ax[1].set_axis_off()\n",
        "ax[2].set_axis_off()\n",
        "\n",
        "# give subplot 1 an informative title\n",
        "ax[0].set_title('GDP estimate: countries')\n",
        "\n",
        "# give subplot 2 an informative title\n",
        "ax[1].set_title('GDP estimate: continent average (scale=default)')\n",
        "\n",
        "# give subplot 2 an informative title\n",
        "ax[2].set_title('GDP estimate: continent average (scale=contries scale)')\n",
        "\n",
        "# show figure\n",
        "plt.show()"
      ]
    },
    {
      "cell_type": "markdown",
      "metadata": {
        "id": "9eKwOIzVRmO7"
      },
      "source": [
        "<font color= 'orchid'><b>Run the code below to plot a choropleth map of popualtion estimates for the continents</font>"
      ]
    },
    {
      "cell_type": "code",
      "execution_count": null,
      "metadata": {
        "id": "xt6W0HVRRmO8"
      },
      "outputs": [],
      "source": [
        "f,ax = plt.subplots(1, figsize=(16,8))\n",
        "continents.plot(column='pop_est',legend=True, ax=ax)\n",
        "# remove axis\n",
        "ax.set_axis_off()\n",
        "plt.show();"
      ]
    },
    {
      "cell_type": "markdown",
      "metadata": {
        "id": "nHqyYyaXRmO8"
      },
      "source": [
        "<font color='orchid'> <b>Try plotting continents by 'gdp_md_est' </font> <br>\n",
        "Answer at the end"
      ]
    },
    {
      "cell_type": "code",
      "execution_count": null,
      "metadata": {
        "id": "mAoYCbZfRmO8"
      },
      "outputs": [],
      "source": [
        "#  plot here!"
      ]
    },
    {
      "cell_type": "markdown",
      "metadata": {
        "id": "7rGJIOw7RmO8"
      },
      "source": [
        "## Joining a non-spatial dataset to a spatial dataset\n",
        "\n",
        "We are going to read in some data about forest coverage of differenet countires and join it to the countires dataframe"
      ]
    },
    {
      "cell_type": "markdown",
      "metadata": {
        "id": "wChOZuJLRmO8"
      },
      "source": [
        "<font color ='orchid'><b> Run the code below to read in a csv of country forest coverage data </font>"
      ]
    },
    {
      "cell_type": "code",
      "execution_count": null,
      "metadata": {
        "id": "CrC8XIoRRmO8"
      },
      "outputs": [],
      "source": [
        "# read in csv data using pandas\n",
        "forest = pd.read_csv('../data/week_19/country_forest.csv')\n",
        "# have a quick look at the dataframe\n",
        "forest.head()"
      ]
    },
    {
      "cell_type": "markdown",
      "metadata": {
        "id": "oxLI78lVRmO9"
      },
      "source": [
        "The 'country' column in the forest dataframe matches that of the 'name' column in the countries dataframe. As they are formatted in exaclty the same way and each row is unique the country name is a unqiue identifier common to both dataframes. Therefore we will use this column to join our datasets. <br>\n",
        "The code we will use is <code>pd.merge()</code>. We need to specify a few parameteres within the function:<br>\n",
        "\n",
        "- Firstly we specify which dataframes we want to join (in the order we want to join them).<br>\n",
        "<code> pd.merge(countries, forest... </code> <br>\n",
        "\n",
        "\n",
        "- Secondly we need to specify the column in each dataframe, countries is on the left so we specify left_on='name': as we are using the 'name' column from the countires dataframe. And the forest dataframe is on the right so we specify right_on='country' as we are using the 'country' column.<br>\n",
        "<code> pd.merge(countries, forest, left_on='name', right_on='country' ... </code> <br>\n",
        "\n",
        "\n",
        "- Finally we need to specify how the tables are joined. This is based on [SQL join fomats](http://www.complexsql.com/sql-joins-2/). In this case we are using a left join (we keep all the data in the left dataframe and just add the columns form the right dataframe on the end).\n",
        "<code> pd.merge(countries, forest, left_on='name', right_on='country', how='left') </code> <br>"
      ]
    },
    {
      "cell_type": "code",
      "execution_count": null,
      "metadata": {
        "id": "QsDJwNp6RmO9"
      },
      "outputs": [],
      "source": [
        "country_forest  = pd.merge(countries, forest,  left_on='name', right_on='country', how='left')\n",
        "country_forest.head()"
      ]
    },
    {
      "cell_type": "markdown",
      "metadata": {
        "id": "QV4Q7Pk5RmO9"
      },
      "source": [
        "Now we will visualise our newly joined data by plotting the percentage forest in each country"
      ]
    },
    {
      "cell_type": "code",
      "execution_count": null,
      "metadata": {
        "id": "yK2m8a3GRmO9"
      },
      "outputs": [],
      "source": [
        "f,ax = plt.subplots(1, figsize=(16,8))\n",
        "country_forest.plot(column='per_forest',legend=True,ax=ax)\n",
        "# remove axis\n",
        "ax.set_axis_off()\n",
        "plt.show();"
      ]
    },
    {
      "cell_type": "markdown",
      "metadata": {
        "id": "jze37momRmO9"
      },
      "source": [
        "Because thereis such a large variaiton in percentage tree cover the above map with a continuous scale doesn't tell us much. To make a more informative plot we can use <code> scheme = ' '</code>\n",
        "And use <code> ['equal_interval', 'quantiles', 'fisher_jenks', 'fisher_jenks_sampled']</code> to define how the choropleth map is scaled."
      ]
    },
    {
      "cell_type": "code",
      "execution_count": null,
      "metadata": {
        "id": "jFPeOf1jRmO-"
      },
      "outputs": [],
      "source": [
        "f,ax = plt.subplots(1, figsize=(16,8))\n",
        "country_forest.plot(column='per_forest',legend=True,cmap='Greens',scheme='equal_interval', ax=ax)\n",
        "# remove axis\n",
        "ax.set_axis_off()\n",
        "# position axis\n",
        "ax.get_legend().set_bbox_to_anchor((.12, .4))\n",
        "ax.set_title('Percentage Forest')\n",
        "plt.show();"
      ]
    },
    {
      "cell_type": "markdown",
      "metadata": {
        "id": "_DeSG6kIRmO-"
      },
      "source": [
        "<font color='orchid'><b> Write your own code to map 'forest_area_km2'</font> <br>\n",
        "Answer at the end"
      ]
    },
    {
      "cell_type": "code",
      "execution_count": null,
      "metadata": {
        "id": "lM-yPFs0RmO-"
      },
      "outputs": [],
      "source": [
        "# plot here!\n"
      ]
    },
    {
      "cell_type": "markdown",
      "metadata": {
        "id": "-tyYdDYiRmO-"
      },
      "source": [
        "## Spatially Joining Data\n",
        "\n",
        "It is also possible to join data based on their spatial relationship to each other using <code>.sjoin()</code>\n",
        "For example we ight want to know the country each city is in.\n",
        "\n",
        "\n",
        "Like with <code>pd.merge()</code> there are parameters we need to specify when using <code>gpd.sjoin()</code>\n",
        "\n",
        "- Again firstly we specify which dataframes we want to join (in the order we want to join them).<br>\n",
        "<code>gpd.sjoin(cities, countries, ... </code> <br>\n",
        "\n",
        "\n",
        "- Secondly we need to specify how the tables are joined. (Again based on [SQL join fomats](http://www.complexsql.com/sql-joins-2/)). In this case we are using an inner join\n",
        "<code> gpd.sjoin(cities, countries, how=\"inner\",... </code> <br>\n",
        "\n",
        "- Finally we need to specify the tyep of spatial join using 'op'. From the [Geopandas documentation](http://geopandas.org/mergingdata.html) <br>\n",
        "<i>The `op argument specifies how geopandas decides whether or not to join the attributes of one object to another. There are three different join options as follows:\n",
        "    - <b>intersects:</b> The attributes will be joined if the boundary and interior of the object intersect in any way with the boundary and/or interior of the other object.\n",
        "    - <b>within:</b> The attributes will be joined if the object’s boundary and interior intersect only with the interior of the other object (not its boundary or exterior).\n",
        "    - <b>contains:</b> The attributes will be joined if the object’s interior contains the boundary and interior of the other object and their boundaries do not touch at all. </i> <br>\n",
        "    \n",
        "<font color = 'orchid'><b> Run the code below to spatially join the data </font>"
      ]
    },
    {
      "cell_type": "code",
      "execution_count": null,
      "metadata": {
        "id": "_hbre_x2RmO-"
      },
      "outputs": [],
      "source": [
        "cities_with_country = gpd.sjoin(cities, countries, how=\"inner\", op='intersects')\n",
        "cities_with_country.head()"
      ]
    },
    {
      "cell_type": "code",
      "execution_count": null,
      "metadata": {
        "scrolled": true,
        "id": "N0SOY9SaRmO_"
      },
      "outputs": [],
      "source": [
        "# let us plot the cities now coloured by the continent (a column initally from the cities dataframe)\n",
        "f,ax = plt.subplots(1, figsize=(16,8))\n",
        "\n",
        "# map the countries (basemap)\n",
        "base = continents.plot(ax=ax, cmap='Dark2')\n",
        "# plot the cities and colour them based on continent\n",
        "cities_with_country.plot(column='continent',ax=base, cmap='Spectral')\n",
        "# remove axis\n",
        "ax.set_axis_off()\n",
        "plt.show()"
      ]
    },
    {
      "cell_type": "markdown",
      "metadata": {
        "id": "SdE733FnRmO_"
      },
      "source": [
        "Try doing the same for US cities and states:"
      ]
    },
    {
      "cell_type": "code",
      "execution_count": null,
      "metadata": {
        "id": "p2bpYzDPRmO_"
      },
      "outputs": [],
      "source": [
        "# have a go here"
      ]
    },
    {
      "cell_type": "markdown",
      "metadata": {
        "id": "dygUoWzXRmO_"
      },
      "source": [
        "## Overlay - creating spatial layers from the intersections, unions, and differences between map\n",
        "I have included this for reference with a worked example, to show you how we can look at where spatial data overlaps. Full description an a list of the overlay operations can be found here: https://geopandas.org/set_operations.html\n",
        "Have a read and explore the data"
      ]
    },
    {
      "cell_type": "code",
      "execution_count": null,
      "metadata": {
        "id": "ApvDcvF3RmO_"
      },
      "outputs": [],
      "source": [
        "countries_in_buff =gpd.overlay(cities_buffer , countries, how='intersection')\n",
        "countries_in_buff"
      ]
    },
    {
      "cell_type": "code",
      "execution_count": null,
      "metadata": {
        "id": "pdgvGwQqRmPA"
      },
      "outputs": [],
      "source": [
        "f,ax = plt.subplots(1, figsize=(16,8))\n",
        "\n",
        "base = countries.plot(ax=ax,color='grey')\n",
        "countries_in_buff.plot(ax=base, column='name_1',alpha=0.8)\n",
        "# remove axis\n",
        "ax.set_axis_off()\n",
        "plt.show();"
      ]
    },
    {
      "cell_type": "markdown",
      "metadata": {
        "id": "Ao93GLpERmPA"
      },
      "source": [
        "## Some other interesting maps"
      ]
    },
    {
      "cell_type": "markdown",
      "metadata": {
        "id": "c3pgCZlhRmPA"
      },
      "source": [
        "### Introducing geoplot: geospatial data visualization\n",
        "\n",
        "package<i>'Geoplot is a high-level Python geospatial plotting library. It’s an extension to cartopy and matplotlib which makes mapping easy: like seaborn for geospatial. It comes with the following features:'</i>\n",
        "\n",
        "Geoplot has many of the same functions that we have already used in visualising our maps, but also has some additional mapping features. Learn more here: https://residentmario.github.io/geoplot/plot_references/plot_reference.html"
      ]
    },
    {
      "cell_type": "markdown",
      "metadata": {
        "id": "-oWoJB1qRmPA"
      },
      "source": [
        "### Kernel density map\n",
        "\n",
        "Much like the kernel density plots we produced in day 1 this produces a kernel density estimate of spatial point data."
      ]
    },
    {
      "cell_type": "code",
      "execution_count": null,
      "metadata": {
        "scrolled": true,
        "id": "vw8EvhGrRmPA"
      },
      "outputs": [],
      "source": [
        "f,ax = plt.subplots(1, figsize=(16,8))\n",
        "\n",
        "# map the countries (basemap)\n",
        "base = continents.plot(ax=ax, color='grey')\n",
        "\n",
        "# map the kernel density estimate of world cities\n",
        "gplt.kdeplot(cities, cmap=\"Reds\", shade=True,ax=base, alpha=0.8)\n",
        "\n",
        "# remove axis\n",
        "ax.set_axis_off()\n",
        "\n",
        "plt.show()"
      ]
    },
    {
      "cell_type": "code",
      "execution_count": null,
      "metadata": {
        "id": "WOI268ICRmPA"
      },
      "outputs": [],
      "source": [
        "countries.crs"
      ]
    },
    {
      "cell_type": "markdown",
      "metadata": {
        "id": "wZafSL4dRmPB"
      },
      "source": [
        "### Adding base maps\n",
        "Base maps provide the reader with context for a map. At a smaller scale than we are currently using the basemap may show road networks or point of interest.\n",
        "\n",
        "We are going to use contextily to add the background map to the geographic data using the <code>.basemap()</code> function.\n",
        "\n",
        "#### Aligning the CRS\n",
        "But first we need to convert the CRS of the data we want to plot to the Web Mercator projection (epsg=3857). So the base maps and geographic data we are plotting align.\n",
        "\n",
        "Unless the data file I want to plot is particularly big I tend to save the data with the Web Mercator projection as a new geodataframe to avoid confusion."
      ]
    },
    {
      "cell_type": "code",
      "execution_count": null,
      "metadata": {
        "id": "Nkuxa9aMRmPB"
      },
      "outputs": [],
      "source": [
        "africa_WM.crs"
      ]
    },
    {
      "cell_type": "code",
      "execution_count": null,
      "metadata": {
        "id": "e03f25ewRmPB"
      },
      "outputs": [],
      "source": [
        "# convert CRS to epsg=3857 Web Mercator\n",
        "africa_WM = africa.to_crs(epsg=3857)\n",
        "\n",
        "fig,ax = plt.subplots(1, figsize=(10,10))\n",
        "\n",
        "# plot the africa data as usual\n",
        "africa_WM.plot(column='pop_est',ax=ax,alpha=0.5)\n",
        "\n",
        "# add ctx basemap to ax\n",
        "ctx.add_basemap(ax, crs=africa_WM.crs)\n",
        "\n",
        "#ax.set_axis_off()"
      ]
    },
    {
      "cell_type": "code",
      "execution_count": null,
      "metadata": {
        "id": "M3bEb3PLRmPB"
      },
      "outputs": [],
      "source": []
    },
    {
      "cell_type": "markdown",
      "metadata": {
        "id": "SRlIAi3wRmPB"
      },
      "source": [
        "#### Different base maps.\n",
        "By default ctx.add_basemap() uses the Stamen Terrain style.\n",
        "\n",
        "To see the available different base maps we can get the provider keys:"
      ]
    },
    {
      "cell_type": "markdown",
      "metadata": {
        "id": "4dl-QgG-RmPB"
      },
      "source": [
        "List of contextily providers:"
      ]
    },
    {
      "cell_type": "code",
      "execution_count": null,
      "metadata": {
        "id": "CuGK5CXPRmPC"
      },
      "outputs": [],
      "source": [
        "ctx.providers.keys()"
      ]
    },
    {
      "cell_type": "markdown",
      "metadata": {
        "id": "8AmK4WdgRmPC"
      },
      "source": [
        "Each will have their own options, accessed by the code: <code> ctx.providers.<text color='red'>provider_from_above</font>.keys()</code>\n",
        "\n",
        "E.g. <code> ctx.providers.OpenStreetMap.keys()</code>"
      ]
    },
    {
      "cell_type": "code",
      "execution_count": null,
      "metadata": {
        "id": "ypA1tvbRRmPC"
      },
      "outputs": [],
      "source": [
        "ctx.providers.OpenStreetMap.keys()"
      ]
    },
    {
      "cell_type": "markdown",
      "metadata": {
        "id": "ubcZ_yUFRmPC"
      },
      "source": [
        "We can then use the provider and porvider options to choose our base map e.g. <code>OpenStreetMap.Mapnik</code>"
      ]
    },
    {
      "cell_type": "code",
      "execution_count": null,
      "metadata": {
        "id": "ttpsV2MbRmPC"
      },
      "outputs": [],
      "source": [
        "\n",
        "\n",
        "f,ax = plt.subplots(1, figsize=(16,16))\n",
        "\n",
        "# plot the africa data as usual\n",
        "africa_WM .plot(figsize=(10, 10), alpha=0.2,column='pop_est',ax=ax)\n",
        "\n",
        "# add ctx basemap to ax, specifying the basemap provider and options\n",
        "ctx.add_basemap(ax,url=ctx.providers.OpenStreetMap.Mapnik)\n",
        "\n",
        "ax.set_axis_off()\n"
      ]
    },
    {
      "cell_type": "markdown",
      "metadata": {
        "id": "uWog6hHgRmPC"
      },
      "source": [
        "<font color='orchid'><b>  Play around with the providers and options to get different base maps."
      ]
    },
    {
      "cell_type": "code",
      "execution_count": null,
      "metadata": {
        "id": "8m7UPmKhRmPC"
      },
      "outputs": [],
      "source": []
    },
    {
      "cell_type": "code",
      "execution_count": null,
      "metadata": {
        "id": "OBhP1JolRmPD"
      },
      "outputs": [],
      "source": []
    },
    {
      "cell_type": "code",
      "execution_count": null,
      "metadata": {
        "id": "tmcOBQWRRmPD"
      },
      "outputs": [],
      "source": []
    },
    {
      "cell_type": "code",
      "execution_count": null,
      "metadata": {
        "id": "du7dFRUDRmPD"
      },
      "outputs": [],
      "source": []
    },
    {
      "cell_type": "code",
      "execution_count": null,
      "metadata": {
        "id": "oqSeODntRmPD"
      },
      "outputs": [],
      "source": []
    },
    {
      "cell_type": "markdown",
      "metadata": {
        "id": "LcHA00rDRmPD"
      },
      "source": [
        "#### Using geoplot to add a basemap"
      ]
    },
    {
      "cell_type": "code",
      "execution_count": null,
      "metadata": {
        "id": "MrkYJIvsRmPD"
      },
      "outputs": [],
      "source": [
        "\n",
        "# specify basemap (webmap) including projection\n",
        "# using geoplot we specify the figure size in the function\n",
        "ax = gplt.webmap(africa, projection=gcrs.WebMercator(),figsize=(12, 12),)\n",
        "\n",
        "# plot a chlorolpeth of africa by popualtion estiamte\n",
        "gplt.choropleth(africa, ax=ax, hue='pop_est', legend=True, alpha=0.5);"
      ]
    },
    {
      "cell_type": "markdown",
      "metadata": {
        "id": "YBJDKF4BRmPD"
      },
      "source": [
        "<h1> Exercise answers</h1>  <a class=\"tocSkip\">"
      ]
    },
    {
      "cell_type": "markdown",
      "metadata": {
        "id": "fTQFmSM4RmPD"
      },
      "source": [
        "## <a class=\"tocSkip\">\n",
        "\n",
        "![](https://github.com/FrancescaPontin/GEOG5990M/blob/main/notebooks/screenshots/A1.png?raw=true)\n",
        "![](https://github.com/FrancescaPontin/GEOG5990M/blob/main/notebooks/screenshots/a2.png?raw=true)"
      ]
    },
    {
      "cell_type": "code",
      "execution_count": null,
      "metadata": {
        "id": "AgCYwz7TRmPE"
      },
      "outputs": [],
      "source": [
        "### buffering the countries centroids\n",
        "\n",
        "# copy the centroids dataframe\n",
        "countries_centroid_buffer = countries_centroid.copy()\n",
        "\n",
        "# calculate the buffer, replacing the geometry column wiht the clauclted buffer geometry\n",
        "countries_centroid_buffer['geometry'] = countries_centroid.buffer(6)\n",
        "\n",
        "# plot one subplot (1 map), with dimensions 16 X 8\n",
        "f, ax = plt.subplots(1, figsize=(16, 8))\n",
        "\n",
        "# plot the country centroid buffers on the basemap axis, colour the buffers based on popaultion estimate\n",
        "base = countries_centroid_buffer.plot(ax=ax,column='pop_est', legend=True, alpha=0.6)\n",
        "# plot the country centroids\n",
        "countries_centroid.plot(ax=base,color='red', markersize=5)\n",
        "\n",
        "# make axis invisible\n",
        "ax.set_axis_off()\n",
        "\n",
        "# show the map\n",
        "plt.show()"
      ]
    },
    {
      "cell_type": "code",
      "execution_count": null,
      "metadata": {
        "id": "wCcBQty2RmPE"
      },
      "outputs": [],
      "source": [
        "### buffering the Africa convex hull polygons\n",
        "\n",
        "# copy the centroids dataframe\n",
        "africa_convex_hull_buffer = africa_convex_hull.copy()\n",
        "\n",
        "# calculate the buffer, replacing the geometry column wiht the clauclted buffer geometry\n",
        "africa_convex_hull_buffer['geometry'] = africa_convex_hull.buffer(6)\n",
        "\n",
        "# plot one subplot (1 map), with dimensions 16 X 8\n",
        "f, ax = plt.subplots(1, figsize=(16, 8))\n",
        "\n",
        "\n",
        "# plot the africa dataframe on the basemap axis\n",
        "base = africa_convex_hull.plot(ax=ax,column='pop_est')\n",
        "\n",
        "# plot the afica centroid buffers, colour the buffers based on popaultion estimate\n",
        "africa_convex_hull_buffer.boundary.plot(ax=ax,color=None,edgecolor='black',linewidth = 0.2)\n",
        "\n",
        "\n",
        "# make axis invisible\n",
        "ax.set_axis_off()\n",
        "\n",
        "# show the map\n",
        "plt.show()"
      ]
    },
    {
      "cell_type": "code",
      "execution_count": null,
      "metadata": {
        "id": "lTo1raIQRmPE"
      },
      "outputs": [],
      "source": [
        "### get the centroids of the Africa convex hull polygons\n",
        "\n",
        "# copy the centroids dataframe\n",
        "africa_convex_hull_centroid = africa_convex_hull.copy()\n",
        "\n",
        "# calculate the buffer, replacing the geometry column wiht the clauclted buffer geometry\n",
        "africa_convex_hull_centroid['geometry'] = africa_convex_hull.centroid\n",
        "\n",
        "# plot one subplot (1 map), with dimensions 16 X 8\n",
        "f, ax = plt.subplots(1, figsize=(16, 8))\n",
        "\n",
        "\n",
        "# plot the africa dataframe on the basemap axis\n",
        "base = africa_convex_hull.plot(ax=ax,column='pop_est')\n",
        "\n",
        "# plot the centroids of the convex hull polygons, colour them red\n",
        "africa_convex_hull_centroid.plot(ax=ax,color='red')\n",
        "\n",
        "\n",
        "# make axis invisible\n",
        "ax.set_axis_off()\n",
        "\n",
        "# show the map\n",
        "plt.show()"
      ]
    },
    {
      "cell_type": "code",
      "execution_count": null,
      "metadata": {
        "id": "JGbprfFkRmPE"
      },
      "outputs": [],
      "source": [
        "countries_convex_hull = countries.copy()\n",
        "\n",
        "countries_convex_hull['geometry'] = countries.convex_hull\n",
        "\n",
        "# plot one subplot (1 map), with dimensions 16 X 8\n",
        "f, ax = plt.subplots(1, figsize=(16, 8))\n",
        "\n",
        "# define the basemap plot it on the sublot axis\n",
        "base = countries.plot(ax=ax, color='grey')\n",
        "\n",
        "# plot the africa convex hull polygons\n",
        "countries_convex_hull.boundary.plot(ax=base)\n",
        "\n",
        "# make axis invisible\n",
        "ax.set_axis_off()\n",
        "\n",
        "# show the map\n",
        "plt.show()"
      ]
    }
  ],
  "metadata": {
    "kernelspec": {
      "display_name": "Python 3 (ipykernel)",
      "language": "python",
      "name": "python3"
    },
    "language_info": {
      "codemirror_mode": {
        "name": "ipython",
        "version": 3
      },
      "file_extension": ".py",
      "mimetype": "text/x-python",
      "name": "python",
      "nbconvert_exporter": "python",
      "pygments_lexer": "ipython3",
      "version": "3.11.6"
    },
    "toc": {
      "base_numbering": 1,
      "nav_menu": {},
      "number_sections": true,
      "sideBar": true,
      "skip_h1_title": false,
      "title_cell": "Table of Contents",
      "title_sidebar": "Contents",
      "toc_cell": false,
      "toc_position": {
        "height": "calc(100% - 180px)",
        "left": "10px",
        "top": "150px",
        "width": "376.4705810546875px"
      },
      "toc_section_display": true,
      "toc_window_display": true
    },
    "colab": {
      "provenance": []
    }
  },
  "nbformat": 4,
  "nbformat_minor": 0
}