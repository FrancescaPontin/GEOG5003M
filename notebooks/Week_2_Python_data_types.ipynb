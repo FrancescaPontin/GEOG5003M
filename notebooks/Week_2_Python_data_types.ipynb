{
 "cells": [
  {
   "cell_type": "markdown",
   "metadata": {},
   "source": [
    "\n",
    "# GEOG59950 Programming for Geographical Information Analysis: Core Skills <a class=\"tocSkip\">\n",
    "\n",
    " #### Contact: F.L.Pontin@leeds.ac.uk <a class=\"tocSkip\">"
   ]
  },
  {
   "cell_type": "markdown",
   "metadata": {},
   "source": [
    "# Exercise 2: Getting started\n",
    "\n",
    "- Data types"
   ]
  },
  {
   "cell_type": "markdown",
   "metadata": {},
   "source": [
    "## Using Jupyter notebooks\n",
    "\n",
    "Welcome to coding in Python! This course is designed to introduce you to the basics of coding in Python and then get you to apply your new-found coding skills to carry out some spatial data analytics! \n",
    "This session is written in a Jupyter Notebook. A Jupyter Notebook [\"is an open source web application that you can use to create and share documents that contain live code, equations, visualizations, and text\"](https://realpython.com/jupyter-notebook-introduction/). \n",
    "\n",
    "A Jupyter Notebook is made up of cells. These cells can contain text (known as markdown), code, images and many other formats. \n",
    " E.g. \n",
    "To select a cell click on the text or grey cell containing code and a thin grey line will appear around the cell and a small toolbar will appear on the top right-hand side of the cell. <br>\n",
    "\n",
    "![Select text cell](../screenshots/Select_text_cell_colab.png)\n",
    "![Select code cell](../screenshots/Select_code_cell_colab.png)\n",
    "\n",
    "\n",
    "Have a look at all the functions on the right-hand toolbar ('Move up', 'Move down', 'Copy link to cell', 'Edit', etc...)\n",
    "\n",
    "\n",
    "To edit a text cell click in it twice, a toolbar will appear at the top of the cell, the left hand-side will show the raw text and right-hand side shows the 'rendered' code. \n",
    "\n",
    "![Edit text cell](../screenshots/Edit_text_cell_colab.png)"
   ]
  },
  {
   "cell_type": "markdown",
   "metadata": {},
   "source": [
    "During the teaching session you will read through the Jupyter Notebok, running sections of code yourself to learn key data analysis skills. There will also be places to edit and write your own code within the notebook.\n",
    "\n",
    "* ##### <font color='orchid'>Instructions and tasks for you to complete are in purple</font> \n",
    "    \n",
    "* ##### Where you have to write your own code answers are provided at the end of the section \n",
    "\n",
    "The first few exercises are a recap from last week"
   ]
  },
  {
   "cell_type": "markdown",
   "metadata": {},
   "source": [
    "## Hello World"
   ]
  },
  {
   "cell_type": "markdown",
   "metadata": {},
   "source": [
    "Following coding tradition the first thing we are going to program is to print the words \"Hello World\".\n",
    "\n",
    "The <code>print() </code> function prints the specified message to your screen\n",
    "\n",
    "The speech marks <code>\" \"</code> arround Hello World let python know you are typing text (also known as a string).\n",
    "\n",
    " <font color='orchid'> <b>Run the code below</b></font>"
   ]
  },
  {
   "cell_type": "code",
   "execution_count": null,
   "metadata": {},
   "outputs": [],
   "source": [
    "print(\"Hello World\")"
   ]
  },
  {
   "cell_type": "markdown",
   "metadata": {},
   "source": [
    "## Basic maths"
   ]
  },
  {
   "cell_type": "markdown",
   "metadata": {},
   "source": [
    "Lets do some basic maths \n",
    "<br><font color='orchid'> <b>Run the code below</b></font>"
   ]
  },
  {
   "cell_type": "code",
   "execution_count": null,
   "metadata": {},
   "outputs": [],
   "source": [
    "2+2"
   ]
  },
  {
   "cell_type": "markdown",
   "metadata": {},
   "source": [
    "If we print 2+2 we get the same thing\n",
    "<br> <font color='orchid'> <b>Run the code below</b></font>"
   ]
  },
  {
   "cell_type": "code",
   "execution_count": null,
   "metadata": {},
   "outputs": [],
   "source": [
    "print(2+2)"
   ]
  },
  {
   "cell_type": "markdown",
   "metadata": {},
   "source": [
    "If we <code>print(\"2+2\")</code> however we get the characters 2 + 2 as the speach marks tell Python we are typing text and not numerical characters\n",
    "\n",
    "\n",
    "<br> <font color='orchid'> <b>Run the code below</b></font> and see for yourself"
   ]
  },
  {
   "cell_type": "code",
   "execution_count": null,
   "metadata": {
    "scrolled": true
   },
   "outputs": [],
   "source": [
    "print(\"2+2\")\n"
   ]
  },
  {
   "cell_type": "markdown",
   "metadata": {},
   "source": [
    "## Assigning values to variables\n",
    "\n",
    "We can also assign the sum 2+2 to a variable. \n",
    "\n",
    "In this case we have named the variable <font color='blue'>answer</font>. We can now type <font color='blue'>answer</font> instead of 2+2 every time.\n",
    "\n",
    "<br> <font color='orchid'> <b>To assign 2+2 to the variable answer run the code below</b></font>"
   ]
  },
  {
   "cell_type": "code",
   "execution_count": null,
   "metadata": {},
   "outputs": [],
   "source": [
    "answer = 2+2\n",
    "print(answer)"
   ]
  },
  {
   "cell_type": "markdown",
   "metadata": {},
   "source": [
    "We can also add our created variable to a new equation\n",
    "<br> <font color='orchid'> <b>To add 5 to the variable answer run the code below</b></font>"
   ]
  },
  {
   "cell_type": "code",
   "execution_count": null,
   "metadata": {},
   "outputs": [],
   "source": [
    "# we can also add our created variable to a new equation\n",
    "answer + 5"
   ]
  },
  {
   "cell_type": "markdown",
   "metadata": {},
   "source": [
    "NOTE: <code>#</code> When a hashtag is added to a line of code the rest of that line is not treated as code.\n",
    "This can be used to add comments to your code so you know what it is doing (especially useful when you come back to it later on!)"
   ]
  },
  {
   "cell_type": "markdown",
   "metadata": {},
   "source": [
    "## Lists\n",
    "\n",
    "Remember lists are an ordered collection of one or more data item.  Defined by square brackets <code>[]</code>\n",
    "\n",
    "<br> <font color='orchid'> <b>Look back at the lecture notes and create a list called fruit with the following data items: 'apple', 'pear', 'banana', 'strawberry' (note these are strings)</b></font>"
   ]
  },
  {
   "cell_type": "code",
   "execution_count": null,
   "metadata": {},
   "outputs": [],
   "source": [
    "# Type code here"
   ]
  },
  {
   "cell_type": "markdown",
   "metadata": {},
   "source": [
    "We can check that you have created a list using the <code>type</code> function\n",
    "\n",
    "<br> <font color='orchid'> <b>Enter <code> type(fruit) </code> into the cell below</b></font>"
   ]
  },
  {
   "cell_type": "code",
   "execution_count": null,
   "metadata": {
    "scrolled": true
   },
   "outputs": [],
   "source": [
    "# run this code\n"
   ]
  },
  {
   "cell_type": "markdown",
   "metadata": {},
   "source": [
    "### Lists and basic maths\n",
    "\n",
    "We can also create a list of numbers.  <br> <font color='orchid'> <b>Run the code below </b></font>. What happens when we try to multiply the list by 3?"
   ]
  },
  {
   "cell_type": "code",
   "execution_count": null,
   "metadata": {},
   "outputs": [],
   "source": [
    "numbers = [1,3,5,7,9,11]\n",
    "numbers*3"
   ]
  },
  {
   "cell_type": "markdown",
   "metadata": {},
   "source": [
    "### List comprehension\n",
    "\n",
    "To multiply each item in the list (and create a new list of the results) we need to select each value <code>i</code> in the list:\n",
    "<code>[i*3 for i in numbers]</code>\n",
    "\n",
    "I.e. for each element 1 to i in the list named numbers, multiply that element by 3\n",
    "\n",
    "<br> <font color='orchid'> <b> Run the code to see</b></font>"
   ]
  },
  {
   "cell_type": "code",
   "execution_count": null,
   "metadata": {
    "scrolled": true
   },
   "outputs": [],
   "source": [
    "# multiply element by 3, repeat for every element in the list 'numbers'\n",
    "new_numbers = [i*3 for i in numbers]\n",
    "\n",
    "# print the new list\n",
    "print(new_numbers)"
   ]
  },
  {
   "cell_type": "markdown",
   "metadata": {},
   "source": [
    "<div class=\"alert alert-block alert-warning\">\n",
    "\n",
    "### A very quick introduction to for loops\n",
    "\n",
    "Making a list based on an old list is known as list comprehension. An alternative is a for loop as shown below.\n",
    "\n",
    "We will come back to these later, so for now just <font color='orchid'> <b> run the code and read the comments explaining what each step does. </b></font>"
   ]
  },
  {
   "cell_type": "code",
   "execution_count": null,
   "metadata": {},
   "outputs": [],
   "source": [
    "# create a new empty list\n",
    "my_new_list = []\n",
    "\n",
    "# for element in the list 'numbers': \n",
    "for i in numbers:\n",
    "    # multiply element by 3 and append the result to the new empty list        \n",
    "    my_new_list.append(i * 3)\n",
    "\n",
    "# print the new list\n",
    "print(my_new_list)"
   ]
  },
  {
   "cell_type": "markdown",
   "metadata": {},
   "source": [
    "We can also multiply by another defined variable. For example we previously defined the variable <code>answer</code> (<code>answer = 2+2</code>)"
   ]
  },
  {
   "cell_type": "code",
   "execution_count": null,
   "metadata": {
    "scrolled": true
   },
   "outputs": [],
   "source": [
    "# multiply element by variable 'answer', repeat for every element in the list 'numbers'\n",
    "[i*answer for i in numbers]"
   ]
  },
  {
   "cell_type": "markdown",
   "metadata": {},
   "source": [
    "Commonly you will see <code>i</code> and <code>j</code> to define elements in a list. However this is just convention and you could use anything you wanted to refer to the elements in the list e.g. <code>elephants</code>\n",
    "\n",
    "(Though typing <code>i</code> is a lot quicker)"
   ]
  },
  {
   "cell_type": "code",
   "execution_count": null,
   "metadata": {
    "scrolled": true
   },
   "outputs": [],
   "source": [
    "# multiply element by 3, repeat for every element in the list 'numbers'\n",
    "[elephants*3 for elephants in numbers]"
   ]
  },
  {
   "cell_type": "markdown",
   "metadata": {},
   "source": [
    "## First look at data frames\n",
    "\n",
    "### .head() and .tail() functions\n",
    "To understand how to explore data frames and different data types in python we are going to use a set of data about passengers on the titanic. This is an example dataset built into the seaborn python package. \n",
    "\n",
    "We will go into detail about reading in data and loading packages in the next exercise, <font color='orchid'> <b>for now run the cell of code below. </b></font>\n",
    "\n",
    "Note the <code>.head()</code> function shows the top 5 lines of the data frame. "
   ]
  },
  {
   "cell_type": "code",
   "execution_count": null,
   "metadata": {},
   "outputs": [],
   "source": []
  },
  {
   "cell_type": "code",
   "execution_count": null,
   "metadata": {},
   "outputs": [],
   "source": [
    "# Import the seaborn package\n",
    "import seaborn as sns\n",
    "\n",
    "# load the titanic example dataset and save it as a dataframe named titanic\n",
    "titanic = sns.load_dataset('titanic')\n",
    "\n",
    "# look at the first 5 rows of the dataframe\n",
    "titanic.head()"
   ]
  },
  {
   "cell_type": "markdown",
   "metadata": {},
   "source": [
    "Note NaN denotes a cell containing no data - a null cell"
   ]
  },
  {
   "cell_type": "markdown",
   "metadata": {},
   "source": [
    "<font color='orchid'> <b> Try entering and running <code>titanic.tail()</code> instead of <code>.head()</code> in the cell below. </b></font> What view of the dataframe do you think you are now seeing? "
   ]
  },
  {
   "cell_type": "code",
   "execution_count": null,
   "metadata": {},
   "outputs": [],
   "source": [
    "# enter the instructed code here\n"
   ]
  },
  {
   "cell_type": "markdown",
   "metadata": {},
   "source": [
    "\n",
    "    \n",
    "<I> A Quick description of the titanic data variables:\n",
    "- <b>survival:</b>    If the passenger survived\n",
    "- <b>PassengerId:</b> Unique Id of a passenger. \n",
    "- <b>pclass:</b>    Ticket class\n",
    "- <b>sex:</b>   Sex     \n",
    "- <b>Age:</b>   Age in years     \n",
    "- <b>sibsp:</b>    Number of siblings / spouses aboard the Titanic     \n",
    "- <b>parch:</b>   Number of parents / children aboard the Titanic     \n",
    "- <b>ticket:</b>   Ticket number     \n",
    "- <b>fare:</b>   Cost of the passenger fare     \n",
    "- <b>cabin:</b>  Cabin number     \n",
    "- <b>embarked:</b>    Port of Embarkation</I> "
   ]
  },
  {
   "cell_type": "markdown",
   "metadata": {},
   "source": [
    "### Data frame columns\n",
    "\n",
    "We might just want to get a list of the columns in the dataframe to give us a quick idea of what data we have present. To do this we can use the <code>.columns</code> function after we name the dataframe.\n",
    "\n",
    "<font color='orchid'> <b> Enter <code>titanic.columns</code> in the cell below. </b></font>. The columns listed should be the same as the columns in the <code>.head()</code> view of the dataframe. \n"
   ]
  },
  {
   "cell_type": "code",
   "execution_count": null,
   "metadata": {},
   "outputs": [],
   "source": [
    "# enter the code here\n"
   ]
  },
  {
   "cell_type": "markdown",
   "metadata": {},
   "source": [
    "#### Referring to a column in a dataframe\n",
    "\n",
    "If we want to select a single column of the dataframe we can also do that.\n",
    "\n",
    "There are several ways to refer to a column in a pandas dataframe. \n",
    "\n",
    "The easiest way is by putting the name of the column in square barckets and speech marks <code>[\" \"]</code> after the name of the dataframe.\n",
    "e.g. <code><font color='blue'>dataframe_name</font>[\"<font color='blue'>column_name</font>\"]</code>\n",
    "    \n",
    "<font color='orchid'> <b> Try to select the 'fare' column from the titanic dataframe. "
   ]
  },
  {
   "cell_type": "code",
   "execution_count": null,
   "metadata": {},
   "outputs": [],
   "source": [
    "# enter the code here\n"
   ]
  },
  {
   "cell_type": "markdown",
   "metadata": {},
   "source": [
    "*Note: To save space only a snapshot of the column is shown and not all the rows"
   ]
  },
  {
   "cell_type": "markdown",
   "metadata": {},
   "source": [
    "### Data frame index\n",
    "When we type <code> dataframe_name[\"column_name\"]</code> we get the values of the column but we also see the index (the row names). In this case the rows are just numbered 0:890. But these could be other values such as passenger names.\n",
    "\n",
    "Python indexing starts at 0 not 1. So the first row is row 0 and the first column column 0. \n",
    "\n",
    "<code>.index</code> works the same as <code>.columns</code> but this time shows the row names. \n",
    "\n",
    "<font color='orchid'> <b> Run <code>titanic.index</code> in the cell bellow </font> "
   ]
  },
  {
   "cell_type": "code",
   "execution_count": null,
   "metadata": {},
   "outputs": [],
   "source": [
    "# enter the code here\n"
   ]
  },
  {
   "cell_type": "markdown",
   "metadata": {},
   "source": [
    "We can see the index starts at 0, stops after 891 enteries and increases by a step of 1 for each row."
   ]
  },
  {
   "cell_type": "markdown",
   "metadata": {},
   "source": [
    "### Data frame shape\n",
    "To get the number of rows and columns of a dataframe we can use <code>.shape</code>\n",
    "\n",
    "<font color='orchid'> <b> Run <code>titanic.shape</code> in the cell bellow </font>"
   ]
  },
  {
   "cell_type": "code",
   "execution_count": null,
   "metadata": {},
   "outputs": [],
   "source": [
    "# enter the code here\n",
    "titanic.shape"
   ]
  },
  {
   "cell_type": "markdown",
   "metadata": {},
   "source": [
    "## Data Types\n",
    "\n",
    "### Data types recap\n",
    "\n",
    "As we covered in the lecture there are different types of data: \n",
    "\n",
    "<b>Objects:</b> also known as strings or written characters/text in plain english e.g. Hello World\n",
    "\n",
    "<b>Intergers:</b> Whole numbers e.g. 2, 57 or 109567835\n",
    "\n",
    "<b>Floats:</b> A number with a decimal place e.g. 2.34534, 5.5 or 1.0\n",
    "\n",
    "<b>Boolean:</b> True or False data type\n",
    "<br>\n",
    "\n",
    "<b>Datetime:</b> Values that are either a date, time or both e.g. 2019-10-31 09:26:03.478039 (9:26 am on Halloween 2019)\n",
    "\n",
    "<b>Category:</b> A fintie list of text values E.g. London, Paris, Berlin, Rome (There are a finite number of captial cities)\n",
    "\n",
    "Learn more about python data types using this realpython [online resource](https://realpython.com/python-data-types/)\n",
    "<br>\n",
    "<br>\n",
    "<br>\n",
    "\n",
    "### Checking the data type\n",
    "\n",
    "We can check the data type of each column in a dataframe using the <code>.dtypes</code> funciton \n",
    "<br> <font color='orchid'> <b>Run the code below</b></font> and have a look at the data type of each of the columns. Are they all as you expected?"
   ]
  },
  {
   "cell_type": "code",
   "execution_count": null,
   "metadata": {
    "scrolled": true
   },
   "outputs": [],
   "source": [
    "titanic.dtypes"
   ]
  },
  {
   "cell_type": "markdown",
   "metadata": {},
   "source": [
    "<code>.info()</code> gives us slightly more information including: \n",
    "- data types: (<code>.dtypes</code>)\n",
    "- null counts: number of rows containing non-null values\n",
    "- memory usage: how much computer memory the table uses (useful to know to stop your code running)\n",
    "\n",
    "If a column has fewer non-null values than the total number of rows this indicates that data might be missing. \n",
    "<br> <font color='orchid'> <b>Run the code below</b></font>"
   ]
  },
  {
   "cell_type": "code",
   "execution_count": null,
   "metadata": {
    "scrolled": true
   },
   "outputs": [],
   "source": [
    "titanic.info()"
   ]
  },
  {
   "cell_type": "markdown",
   "metadata": {},
   "source": [
    "## Extra tasks\n",
    "\n",
    "If you have time at the end of the session run the code below to load the penguins dataset and answer the following question using your new found coding skills. \n",
    "    \n",
    "- How many columns and rows does the penguins data frame have?\n",
    "- What are the data types of the different columns in the penguindataframe?\n",
    "- Is there any data obviously missing from the dataframe?\n",
    "- Can you use markdown to produce a list fo the column names and variable types for the penguins data set as I have done above for the titanic data set\n",
    "\n",
    "Work through the following:\n",
    "- https://www.programiz.com/python-programming/comments\n",
    "- https://www.programiz.com/python-programming/variables-constants-literals\n",
    "- https://www.programiz.com/python-programming/variables-datatypes \n",
    "- https://www.programiz.com/python-programming/operators"
   ]
  },
  {
   "cell_type": "code",
   "execution_count": null,
   "metadata": {
    "scrolled": true
   },
   "outputs": [],
   "source": [
    "# load the penguins example dataset and save it as a dataframe named penguins\n",
    "penguins = sns.load_dataset('penguins')"
   ]
  },
  {
   "cell_type": "code",
   "execution_count": null,
   "metadata": {},
   "outputs": [],
   "source": [
    "# How many columns and rows does the coffee data frame have?\n",
    "penguins"
   ]
  },
  {
   "cell_type": "code",
   "execution_count": null,
   "metadata": {},
   "outputs": [],
   "source": [
    "# What are the data types of the different columns in the penguins dataframe?\n"
   ]
  },
  {
   "cell_type": "code",
   "execution_count": null,
   "metadata": {
    "scrolled": true
   },
   "outputs": [],
   "source": [
    "# Is there any data obviously missing from the dataframe?\n"
   ]
  },
  {
   "cell_type": "markdown",
   "metadata": {},
   "source": [
    "Use the following code to get a list of other dataframes you can explore\n",
    "<code>sns.get_dataset_names()</code>, can you produce a summary of what the data is showing and idenitfy where data is missing? \n",
    "\n",
    "You might need to google the dataset to understand the variable names. You might want to create a markdown data summary similar to the one I created for the titanic dataset:\n",
    "\n",
    "    \n",
    "<I> A Quick description of the titanic data variables:\n",
    "- <b>survival:</b>    If the passenger survived\n",
    "- <b>PassengerId:</b> Unique Id of a passenger. \n",
    "- <b>pclass:</b>    Ticket class\n",
    "- <b>sex:</b>   Sex     \n",
    "- <b>Age:</b>   Age in years     \n",
    "- <b>sibsp:</b>    Number of siblings / spouses aboard the Titanic     \n",
    "- <b>parch:</b>   Number of parents / children aboard the Titanic     \n",
    "- <b>ticket:</b>   Ticket number     \n",
    "- <b>fare:</b>   Cost of the passenger fare     \n",
    "- <b>cabin:</b>  Cabin number     \n",
    "- <b>embarked:</b>    Port of Embarkation</I> "
   ]
  },
  {
   "cell_type": "code",
   "execution_count": null,
   "metadata": {},
   "outputs": [],
   "source": [
    "sns.get_dataset_names()"
   ]
  }
 ],
 "metadata": {
  "kernelspec": {
   "display_name": "Python 3 (ipykernel)",
   "language": "python",
   "name": "python3"
  },
  "language_info": {
   "codemirror_mode": {
    "name": "ipython",
    "version": 3
   },
   "file_extension": ".py",
   "mimetype": "text/x-python",
   "name": "python",
   "nbconvert_exporter": "python",
   "pygments_lexer": "ipython3",
   "version": "3.11.7"
  },
  "toc": {
   "base_numbering": 1,
   "nav_menu": {},
   "number_sections": true,
   "sideBar": true,
   "skip_h1_title": false,
   "title_cell": "Table of Contents",
   "title_sidebar": "Contents",
   "toc_cell": false,
   "toc_position": {
    "height": "calc(100% - 180px)",
    "left": "10px",
    "top": "150px",
    "width": "400.11029052734375px"
   },
   "toc_section_display": true,
   "toc_window_display": true
  }
 },
 "nbformat": 4,
 "nbformat_minor": 4
}
