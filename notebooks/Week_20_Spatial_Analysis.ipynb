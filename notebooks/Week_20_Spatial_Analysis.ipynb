{
 "cells": [
  {
   "cell_type": "markdown",
   "id": "57281161-4f8e-4496-a9c3-bee409f6e7b7",
   "metadata": {},
   "source": [
    "# Spatial Analysis and Machine Learning"
   ]
  },
  {
   "cell_type": "code",
   "execution_count": null,
   "id": "8378c7ea-61d0-4ec5-9eb7-23212c30f065",
   "metadata": {},
   "outputs": [],
   "source": [
    "# import required packages \n",
    "import geopandas as gpd\n",
    "import pandas as pd\n",
    "import seaborn as sns\n",
    "from scipy import stats\n",
    "import numpy as np\n",
    "\n",
    "import matplotlib.pyplot as plt\n",
    "\n",
    "# import the required machine learning packages\n",
    "from sklearn import cluster\n",
    "from sklearn.preprocessing import scale\n",
    "\n",
    "# set seaborn plotting theme to white\n",
    "sns.set_theme(style=\"white\")"
   ]
  },
  {
   "cell_type": "markdown",
   "id": "0832ab18-3650-4d76-9cc2-881fb96d5928",
   "metadata": {},
   "source": [
    "## Data Exploration and Preparation\n",
    "### Read in the Priority Places for Food Index (PPFI) data "
   ]
  },
  {
   "cell_type": "code",
   "execution_count": null,
   "id": "cf2d1f70-81b1-457c-9aa6-0c61da518a6b",
   "metadata": {},
   "outputs": [],
   "source": [
    "PPFI = pd.read_csv('../data/week_20/ppfi_index_v2_nov2023.csv')"
   ]
  },
  {
   "cell_type": "code",
   "execution_count": null,
   "id": "7e95ab74-3421-4eb1-80df-867f5aa64058",
   "metadata": {},
   "outputs": [],
   "source": [
    "PPFI.head()"
   ]
  },
  {
   "cell_type": "markdown",
   "id": "86e3dc2d-e406-48d3-bc57-7466b06916a6",
   "metadata": {},
   "source": [
    "Write a few lines of code to explore the data"
   ]
  },
  {
   "cell_type": "code",
   "execution_count": null,
   "id": "606955ce-d0ce-4d75-84fe-4609e529c7d5",
   "metadata": {},
   "outputs": [],
   "source": [
    "# explore data types"
   ]
  },
  {
   "cell_type": "code",
   "execution_count": null,
   "id": "1561ef22-b1c3-48c8-bf24-41ef1ae3db27",
   "metadata": {},
   "outputs": [],
   "source": []
  },
  {
   "cell_type": "code",
   "execution_count": null,
   "id": "bdf22931-a10d-4584-bb28-7c6464ec2690",
   "metadata": {},
   "outputs": [],
   "source": []
  },
  {
   "cell_type": "markdown",
   "id": "41236ad7-6eb6-4f04-8581-34ec9f09f9ec",
   "metadata": {},
   "source": [
    "### Read in the spatial dataframe\n",
    "\n",
    "Read in the LSOA shp file for Leeds\n"
   ]
  },
  {
   "cell_type": "code",
   "execution_count": null,
   "id": "f114fa4d-a451-4d28-a3c0-e1fe314dc4ff",
   "metadata": {},
   "outputs": [],
   "source": [
    "leeds_shp =gpd.read_file('../data/week_20/Leeds.geojson')"
   ]
  },
  {
   "cell_type": "code",
   "execution_count": null,
   "id": "ebabf459-2542-4a24-94df-0884211827f3",
   "metadata": {},
   "outputs": [],
   "source": [
    "leeds_shp.head()"
   ]
  },
  {
   "cell_type": "markdown",
   "id": "40411aa9-e8ef-4584-a2c3-18925db9a3f7",
   "metadata": {},
   "source": [
    "I have included the code below for generating the Leeds shp file, for reference for your final project.\n",
    "We will talk more about finding and downloading data in the coming weeks"
   ]
  },
  {
   "cell_type": "code",
   "execution_count": null,
   "id": "df38cd75-7e76-43fe-bad8-bd09fa10acdc",
   "metadata": {},
   "outputs": [],
   "source": [
    "# # Data downloaded from https://geoportal.statistics.gov.uk/maps/761ecd09b4124843b95511a242e2b1a1 \n",
    "# shp =gpd.read_file('/Users/fran/Downloads/Lower_layer_Super_Output_Areas_2021_EW_BFE_V9_-3647710721716634062.geojson')\n",
    "# leeds_shp =shp.loc[shp['LSOA21NM'].str.contains('Leeds'),:]\t\n",
    "# leeds_shp.to_file('Leeds.geojson')"
   ]
  },
  {
   "cell_type": "markdown",
   "id": "921ae8a0-ee14-4643-96da-9eda20115d11",
   "metadata": {},
   "source": [
    "### Explore, the spatial dataframe"
   ]
  },
  {
   "cell_type": "code",
   "execution_count": null,
   "id": "a36c2883-75b6-4a01-8ef8-8b3c6c75158e",
   "metadata": {},
   "outputs": [],
   "source": [
    "leeds_shp.explore()"
   ]
  },
  {
   "cell_type": "markdown",
   "id": "f3f5efe0-ddb3-408f-8ac5-b3eba836201b",
   "metadata": {},
   "source": [
    "### Join the PPFI data to the spatial dataframe of Leeds"
   ]
  },
  {
   "cell_type": "code",
   "execution_count": null,
   "id": "12f447ff-f8ee-4854-8283-bdb8127533b5",
   "metadata": {},
   "outputs": [],
   "source": [
    "# join the PPFI data to the leeds_shp geodataframe using a lefthand join, on the common ID 'LSOA21CD'/'lsoa21cd'\n",
    "leeds_PPFI =leeds_shp.merge(PPFI, how='left',left_on='LSOA21CD',right_on='lsoa21cd')"
   ]
  },
  {
   "cell_type": "code",
   "execution_count": null,
   "id": "6f31278a-9f26-4016-bc0e-d71f5e91ab1b",
   "metadata": {},
   "outputs": [],
   "source": [
    "leeds_PPFI.columns"
   ]
  },
  {
   "cell_type": "code",
   "execution_count": null,
   "id": "3a50c941-fc8c-4b2b-a912-560d9b953f76",
   "metadata": {},
   "outputs": [],
   "source": [
    "# map to check it has worked\n",
    "\n",
    "# look at where is higher risk of Food Insecurity, don't forget smaller numbers = 'higher priority' \n",
    "leeds_PPFI.explore('pp_dec_combined', cmap='Reds_r')"
   ]
  },
  {
   "cell_type": "markdown",
   "id": "a5b2a2f1-6ace-4618-bf05-7cacec397efc",
   "metadata": {},
   "source": [
    "### Maping the Priority Places for Food Index Deciles in Leeds"
   ]
  },
  {
   "cell_type": "code",
   "execution_count": null,
   "id": "de50da4c-d115-4c3c-84de-d6d9f0e2ff66",
   "metadata": {},
   "outputs": [],
   "source": [
    "# create a list of the columns we want to plot\n",
    "decile_cols =['pp_dec_domain_supermarket_proximity',\n",
    "       'pp_dec_domain_supermarket_accessibility',\n",
    "       'pp_dec_domain_ecommerce_access', 'pp_dec_domain_socio_demographic',\n",
    "       'pp_dec_domain_nonsupermarket_proximity',\n",
    "       'pp_dec_domain_food_for_families', 'pp_dec_domain_fuel_poverty']\n",
    "\n",
    "# create a for loop for plotting a map of each domain \n",
    "# this saves writing out 7 blocks of code for each visualisation\n",
    "\n",
    "# for each item in a range from 0 to 7 (number of items in the deciles_cols list)\n",
    "for i in range (0, len(decile_cols)):\n",
    "    \n",
    "    # produce a plot\n",
    "    fig, ax = plt.subplots(1, 1, figsize=(6, 6))\n",
    "    \n",
    "    # get the ith item in the decile column list and plot\n",
    "    leeds_PPFI.plot(column=decile_cols[i],\n",
    "    \n",
    "  \n",
    "    #### format the plot ###\n",
    "                    \n",
    "    # reduce linewidth between polygons\n",
    "    linewidth =0.1,                \n",
    "    # specify data is categorical (ordinal)                \n",
    "    categorical=True,                 \n",
    "    # show the legend\n",
    "    legend=True, \n",
    "    # define the legend palette\n",
    "    cmap='RdBu', \n",
    "    # use the define axis                \n",
    "    ax=ax,\n",
    "    # position the legend         \n",
    "    legend_kwds={'loc': 'center left','bbox_to_anchor':(1,0.5)})\n",
    "    \n",
    "    # add a title based on the column plotted, formatting the title to look better\n",
    "    plt.title(decile_cols[i].replace('_',' ').replace('pp dec domain ','').capitalize()+' domain in Leeds')\n",
    "    \n",
    "    # do not plot with the axis showing\n",
    "    plt.axis('off')\n",
    "   \n",
    "    # save the figure as an image with name reflecting the domain plotted\n",
    "    plt.savefig('week_20_outputs/'+str(decile_cols[i])+'_'+'Leeds'+'.jpg',bbox_inches='tight');"
   ]
  },
  {
   "cell_type": "markdown",
   "id": "81e00720-f856-4c2b-9d1b-4aa2c86536e0",
   "metadata": {},
   "source": [
    "### Explore the association between PPFI domains \n",
    "To better understand how the domains that make up the 'combined' PPFI index are associated we can plot a pair plot (each domain against the other domains)"
   ]
  },
  {
   "cell_type": "code",
   "execution_count": null,
   "id": "cd587b12-d605-4e93-a437-b5d8d8fb8311",
   "metadata": {},
   "outputs": [],
   "source": [
    "# plot pairplot, adjust height so domain names fit on axis\n",
    "sns.pairplot(leeds_PPFI[['domain_supermarket_proximity',\n",
    "       'domain_supermarket_accessibility', 'domain_ecommerce_access',\n",
    "       'domain_socio_demographic', 'domain_nonsupermarket_proximity',\n",
    "       'domain_food_for_families', 'domain_fuel_poverty']], height=4)"
   ]
  },
  {
   "cell_type": "markdown",
   "id": "7dfb26a9-f44a-4d30-a8c2-9b0c5f8dbdef",
   "metadata": {},
   "source": [
    "#### Quantify the association between PPFI domains using Spearman's rank correlation"
   ]
  },
  {
   "cell_type": "code",
   "execution_count": null,
   "id": "adc44e16-627f-4981-8b56-cd6a23199394",
   "metadata": {},
   "outputs": [],
   "source": [
    "# Calculate Spearman's rank correlation\n",
    "ppfi_domains_corr =leeds_PPFI[['domain_supermarket_proximity',\n",
    "       'domain_supermarket_accessibility', 'domain_ecommerce_access',\n",
    "       'domain_socio_demographic', 'domain_nonsupermarket_proximity',\n",
    "       'domain_food_for_families', 'domain_fuel_poverty']].corr(method = 'spearman')\n",
    "ppfi_domains_corr"
   ]
  },
  {
   "cell_type": "markdown",
   "id": "d4bbfc63-a7f5-4a3c-9c9c-6cd55437c100",
   "metadata": {},
   "source": [
    "#### Visualise the Spearman's rank correlation of the PPFI domains"
   ]
  },
  {
   "cell_type": "code",
   "execution_count": null,
   "id": "a1a0c489-5449-4f11-8b71-be9b32cedf6b",
   "metadata": {},
   "outputs": [],
   "source": [
    "# define plot size\n",
    "fig,ax = plt.subplots(figsize=(8,8))\n",
    "\n",
    "# define mask to apply to upper right hand corner of the plot\n",
    "data_to_mask = np.triu(np.ones_like(ppfi_domains_corr))\n",
    "\n",
    "# define axis tick labels\n",
    "# get the index and the columns, replace the underscores with spaces and remove 'domain ' from the name\n",
    "x_axis_labels = ppfi_domains_corr.columns.str.replace('_',' ').str.replace('domain ','')\n",
    "y_axis_labels = ppfi_domains_corr.index.str.replace('_',' ').str.replace('domain ','')\n",
    "\n",
    "# Have a look at what the tick labels look like\n",
    "print('Labels:',x_axis_labels ,y_axis_labels)\n",
    "\n",
    "# If we want to capitalize each tick label\n",
    "# for each element in the list of x_axis_labels, capitalize it\n",
    "x_axis_labels = [element.capitalize() for element in x_axis_labels]\n",
    "y_axis_labels = [element.capitalize() for element in y_axis_labels]\n",
    "\n",
    "# look at the new labels\n",
    "print('Labels with capital letters:',x_axis_labels ,y_axis_labels)\n",
    "\n",
    "\n",
    "# plot a heatmap of the correlation dataframe\n",
    "sns.heatmap(ppfi_domains_corr, \n",
    "            # annotate so spearman's rank correlation values are displayed on the squares\n",
    "            annot=True, \n",
    "            # define colourmap\n",
    "            cmap='RdBu', \n",
    "            # define value of minimum colour on cbar\n",
    "            vmin=-1, \n",
    "            # define value of maximum colour on cbar\n",
    "            vmax=1,\n",
    "            # add the mask\n",
    "            mask=data_to_mask, \n",
    "            # use the custom tick labels\n",
    "            xticklabels=x_axis_labels, \n",
    "            yticklabels=y_axis_labels,\n",
    "            # add a label to the cbar\n",
    "            cbar_kws={'label': \"Spearman's Rank correlation\"},\n",
    "            # plot on the axis we defined\n",
    "            ax=ax)\n",
    "\n",
    "# Set axis labels\n",
    "ax.set(xlabel=\"Priority Places for Food Index Domains\", \n",
    "       ylabel=\"Priority Places for Food Index Domains\",\n",
    "      title ='Priority Places for Food Index Domain Correlation' );\n",
    "plt.savefig('week_20_outputs/Priority_Places_for_Food_Index_Domain_Correlation.png')"
   ]
  },
  {
   "cell_type": "markdown",
   "id": "d0a64193-6f52-43b8-929f-bae63cf67712",
   "metadata": {},
   "source": [
    "#### Let's investigate what is going on the visualisation above.\n",
    "<b>What happens if you exclude 'mask=data_to_mask'?</b>"
   ]
  },
  {
   "cell_type": "code",
   "execution_count": null,
   "id": "2d201859-db44-4e81-894c-aa96286fc500",
   "metadata": {},
   "outputs": [],
   "source": [
    "# define plot size\n",
    "fig,ax = plt.subplots(figsize=(8,8))\n",
    "\n",
    "# plot a heatmap of the correlation dataframe\n",
    "sns.heatmap(ppfi_domains_corr, \n",
    "            # annotate so spearman's rank correlation values are displayed on the squares\n",
    "            annot=True, \n",
    "            # define colourmap\n",
    "            cmap='RdBu', \n",
    "            # define value of minimum colour on cbar\n",
    "            vmin=-1, \n",
    "            # define value of maximum colour on cbar\n",
    "            vmax=1,\n",
    "            # comment out the mask\n",
    "            #mask=data_to_mask, \n",
    "            # use the custom tick labels\n",
    "            xticklabels=x_axis_labels, \n",
    "            yticklabels=y_axis_labels,\n",
    "            # add a label to the cbar\n",
    "            cbar_kws={'label': \"Spearman's Rank correlation\"},\n",
    "            # plot on the axis we defined\n",
    "            ax=ax)\n",
    "\n",
    "# Set axis labels\n",
    "ax.set(xlabel=\"Priority Places for Food Index Domains\", \n",
    "       ylabel=\"Priority Places for Food Index Domains\",\n",
    "      title ='Priority Places for Food Index Domain Correlation' );\n"
   ]
  },
  {
   "cell_type": "markdown",
   "id": "3fb48df3-4d0d-4199-9c51-ef75cd535bb2",
   "metadata": {},
   "source": [
    "<b> Run the code below, to test what each part of the code does. </b>"
   ]
  },
  {
   "cell_type": "code",
   "execution_count": null,
   "id": "7e527703-d78f-4da4-9654-0275937aa61f",
   "metadata": {},
   "outputs": [],
   "source": [
    "# np.ones_like: Returns an array of ones with the same shape and type as a given array.\n",
    "np.ones_like(ppfi_domains_corr)"
   ]
  },
  {
   "cell_type": "code",
   "execution_count": null,
   "id": "6b3b769d-0c3a-4695-a882-d9e0dc719842",
   "metadata": {},
   "outputs": [],
   "source": [
    "#np.triu() returns the Upper triangle of an array\n",
    "\n",
    "np.triu(np.ones_like(ppfi_domains_corr))"
   ]
  },
  {
   "cell_type": "markdown",
   "id": "802d7283-e374-4666-93ef-a9836484c059",
   "metadata": {},
   "source": [
    "In the function <code>sns.heatmap(mask) </code>, <code> mask<code> 'If passed, data will not be shown in cells where mask is True\" ie.e '1'\n",
    "\n",
    "So in out <code>np.triu(np.ones_like(ppfi_domains_corr))</code> array, only values were the array is 0 will be shown in the heatmap"
   ]
  },
  {
   "cell_type": "markdown",
   "id": "71aaed18-664c-4d6d-9a23-f9fa349b6548",
   "metadata": {},
   "source": [
    "#### Comment out different parts of the code below to test you know what each parameter in the funciton is doing\n",
    "\n",
    "Look at the package documentation (https://seaborn.pydata.org/archive/0.11/generated/seaborn.heatmap.html) to see if you can add further features to the visualisation \n",
    "\n",
    "e.g. make the cbar horizontal or increase the line wdith between heatmap squares"
   ]
  },
  {
   "cell_type": "code",
   "execution_count": null,
   "id": "3986a667-f46f-4a94-a88f-3740c7030f06",
   "metadata": {},
   "outputs": [],
   "source": [
    "# a copy of the code is here for you to explore what the different parameters do \n",
    "\n",
    "# define plot size\n",
    "fig,ax = plt.subplots(figsize=(8,8))\n",
    "# plot a heatmap of the correlation dataframe\n",
    "sns.heatmap(ppfi_domains_corr, \n",
    "            # annotate so spearman's rank correlation values are dispalyed on the squares\n",
    "            annot=True, \n",
    "            # define colourmap\n",
    "            cmap='RdBu', \n",
    "            # define value of minimum colour on cbar\n",
    "            vmin=-1, \n",
    "            # define value of maximum colour on cbar\n",
    "            vmax=1,\n",
    "            # add the mask\n",
    "            mask=data_to_mask, \n",
    "            # use the custom tick labels\n",
    "            xticklabels=x_axis_labels, \n",
    "            yticklabels=y_axis_labels,\n",
    "            # add a label to the cbar\n",
    "            cbar_kws={'label': \"Spearman's Rank correlation\"},\n",
    "            # plot on the axis we defined\n",
    "            ax=ax)\n",
    "\n",
    "# Set axis labels\n",
    "ax.set(xlabel=\"Priority Places for Food Index Domains\", \n",
    "       ylabel=\"Priority Places for Food Index Domains\",\n",
    "      title ='Priority Places for Food Index Domain Correlation' );"
   ]
  },
  {
   "cell_type": "markdown",
   "id": "c50deace-a277-4355-82b3-5f318a88afd4",
   "metadata": {},
   "source": [
    "## K-means clustering"
   ]
  },
  {
   "cell_type": "markdown",
   "id": "5d820d8e-e833-4232-916d-0e1f8d4a8620",
   "metadata": {},
   "source": [
    "### Identify the number of clusters using the elbow method"
   ]
  },
  {
   "cell_type": "code",
   "execution_count": null,
   "id": "ff51b470-31d6-4d39-b929-7eea4ec292c6",
   "metadata": {},
   "outputs": [],
   "source": [
    "# create an empty list to fill with values later\n",
    "Sum_of_squared_distances = []\n",
    "\n",
    "# get a range of numbers from 1 to 15\n",
    "K = range(1,15)\n",
    "#for each number in the range 1 to 15\n",
    "for k in K:\n",
    "    # create a k-means model with that number of clusters\n",
    "    # set random state \n",
    "    km = cluster.KMeans(n_clusters=k, init=\"random\", random_state=123)\n",
    "    # fit the model using the variables of interest (in this case the 7 PPFI domain deciles)\n",
    "    km = km.fit(leeds_PPFI[['pp_dec_domain_supermarket_proximity',\n",
    "       'pp_dec_domain_supermarket_accessibility',\n",
    "       'pp_dec_domain_ecommerce_access', 'pp_dec_domain_socio_demographic',\n",
    "       'pp_dec_domain_nonsupermarket_proximity',\n",
    "       'pp_dec_domain_food_for_families', 'pp_dec_domain_fuel_poverty']].values)\n",
    "    # calculate the sum of the squared distances and add this to the 'Sum_of_squared_distances' list we created earlier\n",
    "    Sum_of_squared_distances.append(km.inertia_)\n",
    "\n",
    "# plot the sum of squared distances against the number of clusters\n",
    "plt.plot(K, Sum_of_squared_distances, 'bx-')\n",
    "plt.xlabel('k')\n",
    "plt.ylabel('Sum_of_squared_distances')\n",
    "plt.title('Elbow Method For Optimal k')\n",
    "plt.show()"
   ]
  },
  {
   "cell_type": "markdown",
   "id": "3d9a50dd-578f-44ce-9c4d-3f859715d161",
   "metadata": {},
   "source": [
    "As discussed in the lecture we want to find the point in the graph where increasing the number of clusters does not substantively reduce the sum of squared distances (the sum of the distances of each point in the data to its' cluster centroid).\n",
    "Here the 'elbow' is not too distinctive, I would argue 5 clusters would probably be best. "
   ]
  },
  {
   "cell_type": "markdown",
   "id": "45173f34-6a78-44ce-9c77-abb34a6e4962",
   "metadata": {},
   "source": [
    "### Run the K-means model with N=5 clusters"
   ]
  },
  {
   "cell_type": "code",
   "execution_count": null,
   "id": "127a725c-a8b3-4c5d-b44e-c3c89077fe1c",
   "metadata": {},
   "outputs": [],
   "source": [
    "# run the model with 5 clusters\n",
    "km5 = cluster.KMeans(n_clusters=5,init=\"random\", random_state=123)\n",
    "km5cls = km5.fit(leeds_PPFI[['pp_dec_domain_supermarket_proximity',\n",
    "       'pp_dec_domain_supermarket_accessibility',\n",
    "       'pp_dec_domain_ecommerce_access', 'pp_dec_domain_socio_demographic',\n",
    "       'pp_dec_domain_nonsupermarket_proximity',\n",
    "       'pp_dec_domain_food_for_families', 'pp_dec_domain_fuel_poverty']].values)\n"
   ]
  },
  {
   "cell_type": "code",
   "execution_count": null,
   "id": "84e18eda-28f4-4e40-bdfb-daf72ae81203",
   "metadata": {},
   "outputs": [],
   "source": [
    "# let's look at the cluster labels (each LSOA has been assigned a cluster in this array)\n",
    "km5cls.labels_"
   ]
  },
  {
   "cell_type": "markdown",
   "id": "2a2d3c39-ac8c-4f2a-9b5c-b8eefffd7ea5",
   "metadata": {},
   "source": [
    "#### Let's create a new column with the cluster label  "
   ]
  },
  {
   "cell_type": "code",
   "execution_count": null,
   "id": "22cdbf4f-3ab4-4355-addd-7304d2d7edcf",
   "metadata": {},
   "outputs": [],
   "source": [
    "# let's look at the cluster labels (each LSOA has been assigned a cluster in this array)\n",
    "\n",
    "leeds_PPFI['Cluster'] = km5cls.labels_\n",
    "leeds_PPFI['Cluster'].head()"
   ]
  },
  {
   "cell_type": "markdown",
   "id": "754224a6-8a08-45ac-9da8-38c43ab64390",
   "metadata": {},
   "source": [
    "#### Create visualisation to understand the relationships captured in the clustering"
   ]
  },
  {
   "cell_type": "code",
   "execution_count": null,
   "id": "efa3a773-b3f7-4171-9e7e-bae4a433edda",
   "metadata": {},
   "outputs": [],
   "source": [
    "# The pari plot gives us an idea of all the relationships between the domains captured by the clustering\n",
    "sns.pairplot(leeds_PPFI[['domain_supermarket_proximity',\n",
    "       'domain_supermarket_accessibility', 'domain_ecommerce_access',\n",
    "       'domain_socio_demographic', 'domain_nonsupermarket_proximity',\n",
    "       'domain_food_for_families', 'domain_fuel_poverty','Cluster']],\n",
    "             hue='Cluster',\n",
    "             palette='Dark2',\n",
    "            height=5)"
   ]
  },
  {
   "cell_type": "markdown",
   "id": "7653f634-3e47-4c63-a13c-45ef68af0f67",
   "metadata": {},
   "source": [
    "### Explore the clustering results\n",
    "#### Map the clusters to view any spatial relationship(s) between clusters"
   ]
  },
  {
   "cell_type": "code",
   "execution_count": null,
   "id": "f981f99b-42e1-417f-85ff-c9c498cad415",
   "metadata": {},
   "outputs": [],
   "source": [
    "# We can also see that there is a spatial pattern to the clusters when we map them\n",
    "f, ax = plt.subplots(1, figsize=(9, 9))\n",
    "\n",
    "leeds_PPFI.plot(column='Cluster', categorical=True, legend=True, \\\n",
    "         linewidth=0.1, edgecolor='white', ax=ax)\n",
    "\n",
    "ax.set_axis_off()\n",
    "\n",
    "plt.show()"
   ]
  },
  {
   "cell_type": "markdown",
   "id": "527b8d78-5f36-4b5b-b33b-c3311b2a0239",
   "metadata": {},
   "source": [
    "#### Calculate summary statisitcs to compare clusters"
   ]
  },
  {
   "cell_type": "code",
   "execution_count": null,
   "id": "2e0ada23-a66d-4d33-b86e-4bc3fc00e69d",
   "metadata": {},
   "outputs": [],
   "source": [
    "# use groupby to get the median decile value of each PPFI domain by cluster \n",
    "leeds_PPFI_clusters_median=leeds_PPFI.groupby('Cluster')[['pp_dec_domain_supermarket_proximity',\n",
    "       'pp_dec_domain_supermarket_accessibility',\n",
    "       'pp_dec_domain_ecommerce_access', 'pp_dec_domain_socio_demographic',\n",
    "       'pp_dec_domain_nonsupermarket_proximity',\n",
    "       'pp_dec_domain_food_for_families', 'pp_dec_domain_fuel_poverty']].median().reset_index()"
   ]
  },
  {
   "cell_type": "code",
   "execution_count": null,
   "id": "8a1a8a8c-9ba5-4077-9cbe-17575b1271ef",
   "metadata": {},
   "outputs": [],
   "source": [
    "leeds_PPFI_clusters_median"
   ]
  },
  {
   "cell_type": "code",
   "execution_count": null,
   "id": "77650bc9-22b6-44ce-a7e1-2ff7c6e0edaf",
   "metadata": {},
   "outputs": [],
   "source": [
    "# let's transform the data from a 'wide' format to a 'long' format to plot\n",
    "leeds_PPFI_clusters_median_to_plot =pd.melt(leeds_PPFI_clusters_median,id_vars='Cluster', \n",
    "                                            value_vars=['pp_dec_domain_supermarket_proximity',\n",
    "       'pp_dec_domain_supermarket_accessibility',\n",
    "       'pp_dec_domain_ecommerce_access', 'pp_dec_domain_socio_demographic',\n",
    "       'pp_dec_domain_nonsupermarket_proximity',\n",
    "       'pp_dec_domain_food_for_families', 'pp_dec_domain_fuel_poverty'])"
   ]
  },
  {
   "cell_type": "code",
   "execution_count": null,
   "id": "62e2e33f-5aa7-47f4-b007-04b4bbd56eaa",
   "metadata": {},
   "outputs": [],
   "source": [
    "# check what the data now look like\n",
    "leeds_PPFI_clusters_median_to_plot.head()"
   ]
  },
  {
   "cell_type": "code",
   "execution_count": null,
   "id": "c7570d95-24a3-4e27-a054-350e71a02b7d",
   "metadata": {},
   "outputs": [],
   "source": [
    "# rename columns ot be more intuitive\n",
    "leeds_PPFI_clusters_median_to_plot.columns = ['Cluster','Priority Places Domain','Median decile']"
   ]
  },
  {
   "cell_type": "code",
   "execution_count": null,
   "id": "5620e7b7-d385-43b5-ba92-cd3c308c4de9",
   "metadata": {},
   "outputs": [],
   "source": [
    "# check what the data now look like\n",
    "leeds_PPFI_clusters_median_to_plot.head()"
   ]
  },
  {
   "cell_type": "markdown",
   "id": "244fa6ac-0f83-4210-a769-56eb129d854b",
   "metadata": {},
   "source": [
    "#### Visualise Cluster by average (median) domain values"
   ]
  },
  {
   "cell_type": "code",
   "execution_count": null,
   "id": "b187214b-ec4b-49a8-b0f2-9ba1afc761b2",
   "metadata": {},
   "outputs": [],
   "source": [
    "# Plot a faceted bar chart, where each row is a different cluster\n",
    "\n",
    "sns.catplot(leeds_PPFI_clusters_median_to_plot, \n",
    "            row='Cluster', \n",
    "            y='Priority Places Domain', \n",
    "            x='Median decile',\n",
    "            kind='bar', \n",
    "            aspect=4, \n",
    "            hue='Median decile',\n",
    "            palette='autumn')\n",
    "plt.savefig('week_20_outputs/cluster_domains_overview.png')"
   ]
  },
  {
   "cell_type": "markdown",
   "id": "ec073421-28a6-4d2f-84cb-80cf83b5e767",
   "metadata": {},
   "source": [
    "### Name clusters using generated cluster summaries\n",
    "\n",
    "Cluster '0','1' etc... are not that intuative, we can instead create a new variable and assign a Cluster description."
   ]
  },
  {
   "cell_type": "code",
   "execution_count": null,
   "id": "319d4d02-8929-4dc8-b67c-1f6c2a9fca27",
   "metadata": {},
   "outputs": [],
   "source": [
    "# create empty column\n",
    "leeds_PPFI['Cluster_description']=\"\""
   ]
  },
  {
   "cell_type": "markdown",
   "id": "ed3c848c-ed22-47ee-a22d-2249f99236f6",
   "metadata": {},
   "source": [
    "Wrtie your own cluster descriptions using the graph above, your clusters might look different to mine.  \n",
    "e.g. <br>\n",
    "<code> leeds_PPFI.loc[leeds_PPFI['Cluster']==1,'Cluster_description']='More likely to be choosing between heat or eat'</code> <br>\n",
    "<code> leeds_PPFI.loc[leeds_PPFI['Cluster']==2,'Cluster_description']='Struggling to access and afford food'</code><br>\n",
    "<code> leeds_PPFI.loc[leeds_PPFI['Cluster']==3,'Cluster_description']='Struggling to access supermarkets'</code><br>\n"
   ]
  },
  {
   "cell_type": "code",
   "execution_count": null,
   "id": "1baf99dd-d3fb-4697-9f0e-c3edb45cd8c8",
   "metadata": {},
   "outputs": [],
   "source": [
    "# edit to add your cluster descriptions\n",
    "leeds_PPFI.loc[leeds_PPFI['Cluster']==0,'Cluster_description']=''\n",
    "leeds_PPFI.loc[leeds_PPFI['Cluster']==1,'Cluster_description']=''\n",
    "leeds_PPFI.loc[leeds_PPFI['Cluster']==2,'Cluster_description']=''\n",
    "leeds_PPFI.loc[leeds_PPFI['Cluster']==3,'Cluster_description']=''\n",
    "leeds_PPFI.loc[leeds_PPFI['Cluster']==4,'Cluster_description']=''\n"
   ]
  },
  {
   "cell_type": "code",
   "execution_count": null,
   "id": "e509485c-f038-48dd-82b7-91deb4a26cc3",
   "metadata": {},
   "outputs": [],
   "source": [
    "# #My cluster descriptions\n",
    "# leeds_PPFI.loc[leeds_PPFI['cluster']==0,'Cluster_description']='Financially constrained'\n",
    "# leeds_PPFI.loc[leeds_PPFI['cluster']==1,'Cluster_description']='More likely to be choosing between heat or eat'\n",
    "# leeds_PPFI.loc[leeds_PPFI['cluster']==2,'Cluster_description']='Struggling to access and afford food'\n",
    "# leeds_PPFI.loc[leeds_PPFI['cluster']==3,'Cluster_description']='Struggling to access supermarkets'\n",
    "# leeds_PPFI.loc[leeds_PPFI['cluster']==4,'Cluster_description']='Getting by'"
   ]
  },
  {
   "cell_type": "markdown",
   "id": "eb99dad3-fdd8-4fd1-9005-e3d75b06525a",
   "metadata": {},
   "source": [
    "### Visualise Cluster Description"
   ]
  },
  {
   "cell_type": "code",
   "execution_count": null,
   "id": "a10c9ba3-9bdf-4a69-abea-5437b198fc21",
   "metadata": {},
   "outputs": [],
   "source": [
    "# use hex colours to define my own cmap, \n",
    "# cbind friendly palette colours taken from: https://davidmathlogic.com/colorblind/#%23648FFF-%23785EF0-%23DC267F-%23FE6100-%23FFB000\n",
    "my_cmap=['#FFB000','#785EF0','#DC267F','#FE6100','#648FFF']"
   ]
  },
  {
   "cell_type": "markdown",
   "id": "988d48fb-8e74-416e-87ba-1f0b00600d2a",
   "metadata": {},
   "source": [
    "#### Map cluster descriptions"
   ]
  },
  {
   "cell_type": "code",
   "execution_count": null,
   "id": "0b00c67e-ce77-431a-88af-9c433fbcf0c9",
   "metadata": {},
   "outputs": [],
   "source": [
    "# Plot your cluster descriptions on the map\n",
    "map =leeds_PPFI.sort_values('Cluster_description').explore('Cluster_description', categorical =True, cmap=my_cmap)\n",
    "\n",
    "# save to html file\n",
    "map.save(\"week_20_outputs/leeds_PPFI_cluster_map.html\")\n",
    "\n",
    "# view map\n",
    "map"
   ]
  },
  {
   "cell_type": "markdown",
   "id": "de4d164c-0b3d-4ed9-bbaa-0176eabd547f",
   "metadata": {},
   "source": [
    "### Reproduce pairplot with Cluster descriptions"
   ]
  },
  {
   "cell_type": "code",
   "execution_count": null,
   "id": "de3517c3-1bc8-4cee-aad9-ba61b520409a",
   "metadata": {},
   "outputs": [],
   "source": [
    "sns.pairplot(leeds_PPFI[['domain_supermarket_proximity',\n",
    "       'domain_supermarket_accessibility', 'domain_ecommerce_access',\n",
    "       'domain_socio_demographic', 'domain_nonsupermarket_proximity',\n",
    "       'domain_food_for_families', 'domain_fuel_poverty','Cluster_description']].sort_values('Cluster_description'),\n",
    "             hue='Cluster_description',\n",
    "             palette=my_cmap,\n",
    "            height=4)"
   ]
  }
 ],
 "metadata": {
  "kernelspec": {
   "display_name": "Python 3 (ipykernel)",
   "language": "python",
   "name": "python3"
  },
  "language_info": {
   "codemirror_mode": {
    "name": "ipython",
    "version": 3
   },
   "file_extension": ".py",
   "mimetype": "text/x-python",
   "name": "python",
   "nbconvert_exporter": "python",
   "pygments_lexer": "ipython3",
   "version": "3.11.6"
  }
 },
 "nbformat": 4,
 "nbformat_minor": 5
}
